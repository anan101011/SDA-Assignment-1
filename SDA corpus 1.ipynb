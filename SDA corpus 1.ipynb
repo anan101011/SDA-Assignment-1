{
 "cells": [
  {
   "cell_type": "code",
   "execution_count": 96,
   "id": "c2093332-28e9-44cc-9ae0-856eb7d1623c",
   "metadata": {
    "tags": []
   },
   "outputs": [
    {
     "name": "stdout",
     "output_type": "stream",
     "text": [
      "﻿Information technology projects consist of many elements that contribute to their success or failure. This article focuses on planning and uncertainty dimensions like project size, diversity, and technical complexity. Size indicates the number of people involved in project planning, and diversity is defined as arrangements among managers about the specialization of work. Technical complexity covers the existing ambiguity of project development processes. Data comes from the field survey with 42 Kuwait leaders, and this country is characterized by its accelerated economic growth and impressive oil revenues. The results prove that project planning is a significant mediator for many management processes. Aladwani concludes that planning depends on the nature of management practices determined by national culture and the existing power flow. Although size and diversity do not affect project success, these factors are directly related to project planning quality.\n",
      "This study contains credible information about the connection between project planning, uncertainty, and success. The goal is to learn the relationships between human activities (planning and performance) and project uncertainty (size, complexity, and diversity). The mediating role of project planning is discussed within one developing country, meaning that developed countries and developing regions with various backgrounds may not meet the particular conditions. Survey research facilitates data collection from many respondents, but the offered sample remains small for the study to be implemented in a larger context. Although the findings remain objective and limited in terms of participants and variables, they enhance understanding of project management in developing countries to control\n",
      "The ways of how organizations and people plan their projects depend on multiple factors, and one of them is to understand the overall purpose of this process. Regardless of the methods and approaches managers prefer, project planning is commonly defined as a process to improve project performance. In this article, Aune uses the literature review of eight sources to describe two different approaches that explain how planning, implementation, and monitoring are organized in a continuous project cycle. On the one hand, the Logical Framework Approach (LFA) is widely used in many modern development projects to establish definite goals, promote logical thinking, identify clear outcomes or expectations, and encourage effective monitoring. On the other hand, the Participatory Rural Appraisal (PRA), also known as a part of the Participatory Learning and Action (PLA) method, underlines the importance of stakeholders’ responsibilities and local priorities. The empowerment of individuals turns out to be a vital part of project planning that emphasizes problem-solving and decision-making.\n",
      "The review of the chosen approaches allows identifying their main differences, including empowerment, people involved in project planning, and the number of problems to be solved. At the same time, the author of the article does not reject the possibility of combining LFA and PRA because the strengths of both methods cover their weaknesses and create a solid guideline for project planning. Managers may choose LFA to improve the general structure of the process, performance level, and outcomes or PRA to indicate its elements like goals, available resources, and stakeholders.\n",
      "The purpose of this article published in the encyclopedia about the major engineering processes is to present the Goal Question Metric (GQM) approach as an effective measurement mechanism for feedback. It is defined as a process during which managers define their goals with respect to their needs, learn the current framework, and interpret their decisions. First, the authors explain the worth of measurement in industrial environments, specifying its effects on goal setting, resources’ choices, and the organizational context in general. Second, the essence of the GQM approach is clarified through defining and evaluating goals for the organization to have enough information for taking further steps. Then, three levels of the measurement model are properly identified. At the conceptual level, a goal is an object measured through products, processes, and resources. At the operational level, questions characterize the object and enhance its quality. The quantitative level contains subjective and objective metrics that depend on the object’s measurements. Finally, the process is described, with validation and analysis mechanisms to be included.\n",
      "Many organizations use the GQM approach to work effectively under different conditions, either in isolation or within a specific context. The reader learns what steps to take to understand and apply the goals, comprehends why measurement matters in project planning, and indicates the factors affecting management process quality. As this source is not a peer-reviewed original article but an article in the encyclopedia, the initial purposes and expectations are well identified and introduced, using personal observations and experiences of the authors.\n",
      "This article’s authors aim at explaining the problem identification effort. Four variables, namely problem solving, the power of the lead organization, activation of groups, and staff skills, are used to promote planning success. Problem solving implies the intention to find all-gain solutions to a particular situation. The power of the lead organization indicates the differences between what organizations cover within a particular period. Activation of groups allows inviting many participants to offer various approaches to planning. Staff skills are positively associated with problem identification, helping see what qualities matter in the working environment. A quantitative analysis of 58 cases is conducted to assess the value of planning processes. Each element has its definition and place in the study: context includes internal and external environments, process represents all generic activities, and outcomes show what perspectives and measurements matter. The researchers conclude that skilled planners can identify goals, communicate, and solve problems, promoting organizational success in the future.\n",
      "The value of this action unit-centered study is in the reliability and validity of the preferred method and literature analysis. Despite its relatively small sample size regarding the scope of process planning problems, the authors recommend their approach to continue analyzing change management in the theoretical and practical context. Additional empirical work is required to fulfill the existing gaps in project planning from the point of view of leading power, skills, and technical aspects. Although change context may vary, processes like problem-solving and communication may lead to the same outcomes, either successful or failed.\n",
      "This exploratory study is based on theory-building and interviews with the representatives of different industries, like film production or information technology. The qualitative research design includes grounded theory methodology to improve project management dynamism, the complexity of human behaviors in actual environments, and a new theory to support change. Purposeful sampling proves the intention to invite definite people with management experience in start-ups and transformation. The authors identify the most appropriate management approaches to respond to constantly changing environments. Change dynamics is unpredictable, and managers should use different resources, materials, and techniques. The make-static course shows how to resist change, and emergent planning is based on feedback. Alternate controls assume predictable environments, staged releases reduce risks and offer secure tests, scope reduction offers quick reaction, and competitive experiments are used to.\n",
      "The chosen topic is broad and may depend on various issues, which explains certain strengths and limitations of the study. The sample size is small (31 participants for primary interviews and six for second interviews), but in-depth interviews and report reviews create a solid background for data analysis. All participants obtained written summaries, which verified this research project. The researchers invite people from different industries to compare experiences and offer objective results. Project planning minimizes risks and facilitates change adaptation through cultural background, communication, and leadership styles. People cannot work in the environment as per their preferences, and they have to learn internal and external factors and make proper choices.\n",
      "de Falco, M., & Macchiaroli, R. (1998). Timing of control activities in project planning.\n",
      "Project planning consists of multiple steps, and companies are free to choose the necessary tasks and methods of work. In this article, de Falco and Macchiaroli investigate the impact of the timing of monitoring and control. They do not rely on communication with professional leaders and managers. Still, their original calculations and explanations contribute to a better understanding of how controlling distribution may be determined and permit some deviations from initial planning. Most current projects are dynamic, and monitoring and control activities help recognize deviations early and control the environments. Once feedback is received, a situation can be analyzed, and a correction is made. The authors underline that there is no need to control and monitor activities simultaneously but take a break or follow a system. For example, weekly monitoring can be saved and applied to controlling points that occur monthly.\n",
      "The article shows that planning and monitoring are integral processes in project management. When people introduce continuous work evaluations, they may succeed or fail the project because of poorly implemented skills and approaches. Therefore, the value of this study is in feedback and the importance of communication between different stages of a working process. This quantitative measurement analysis represents definitions and examples to teach how to control and monitor actions and understand what directions are less harmful to a company with its human resources and equipment. Further implications of the study are related to control actions and timing of monitoring to learn how to distribute efforts between managerial activities.\n",
      "Among the existing variety of project planning processes, transferring tasks cannot be ignored. Companies or individuals offer their services to final users and determine project success and development. Managers have to investigate project efficiency and customer benefits to identify if project success is possible. In this peer-reviewed article, Dvir conducts a correlation analysis of 110 Israelian defense projects that were developed during the last two decades and describes four aspects of transferring (requirements, development, support, and preparations). Questionnaires for customers, project managers, and procurement organizations contain information for analysis. The researcher finds out that the development of operational and maintenance requirements positively contributes to successful project planning. If projects are performed under contract for external or internal customers, managers devote many efforts to plan and prepare the project in advance, focusing on client involvement at all stages and learning what bring to successful execution. However, customers’ and developers’ participation and final users’ preparations are partially correlated with \n",
      "Today, people are interested in project planning from multiple perspectives. It is not enough to have a good guide and a list of tasks to be followed. Leaders expect from their managers efficient transferring, meaningful evaluation, and authentic reports. This article is a solid contribution to the field of project management due to a properly developed theoretical framework and regression analysis of real-life cases. The study explains how users’ preparations and customer benefits affect a working process even before services or products are transferred from their developers to final users.\n",
      "In project planning, managers consider the impact of interconnection between different factors, and this article’s authors focus on employees’ efforts and project success. There are three planning elements (functional requirements, technical specifications, and project management processes and procedures) and three success dimensions (end-users, project managers, and contracting offices). Functional requirements include end-users’ expectations, all concepts’ definitions, and system use characteristics. Technical specifications aim to measure logistic support, reliability, and life cycle costs. The literature review, the survey of 110 defense-related projects, and questionnaires endorse the statistical correlation between the variables to prove that project success remains insensitive to management processes. However, dependence on technical specifications and requirements definitions cannot be ignored. Computerized planning tools play an important role in project management and understanding what end-users expect to get from the contracting office.\n",
      "One of the most evident characteristics of the article is the presence of ideas that contradict each other. The authors compare the importance of project planning in relation to individual creativity. On the one hand, leaders want to use unique approaches and see individual projects. On the other hand, project planning has to be promoted even if it restricts creativity or does not guarantee success. Thus, it is necessary to recognize the efforts that could bring positive results and avoid failures if no planning is implemented. The findings of this article help managers and researchers recognize the worth of efforts that should be invested in goal identification and functional requirements because this relationship promotes overall success in planning.\n",
      "This article discusses the peculiarities of planning in projects devoted to natural resources and the implementation of the Lidar technology, which stands for Light Detection and Ranging. Lidar is used for surface examination by measuring the time needed to reflect the light from an object or the receiver. Its advantages, such as predicting ecosystem dynamics and improving people’s understanding of landscape change, attract the attention of many organizations, and it is important to have a guide on how to implement this method. Despite alternatives like single photon, flash sensors, and footprint waveform, discrete return Lidar helps determine canopy surfaces in the horizontal plane. There are certain lidar acquisition parameters that allow leveraging data across several disciplines and have a serious effect on data comprehension. Some parameters are pulse repetition frequency (pulses per second in the lidar system), number of returns (relationship between sensors and measurement quality), and pulse density (spacing between laser footprints). This article contains many complex terms and definitions, but its main idea is that project planning is crucial in such technical methods, making it possible to apply this method in other spheres.\n",
      "In addition to a complex background required for natural resources management, this area of research is characterized by the necessity to plan each step and explain the existing benefits. This source investigates project planning in a specific environment, which makes it impossible to be widely generalizable beyond the offered setting. Not many managers could use this article for their purposes due to its specific context.\n",
      "Among the existing variety of recommendations and guidelines on achieving positive results in project planning, the ideas offered in this article deserve special attention. Giezen uses the metro project Beneluxlijn in Rotterdam, develops a deviant case study research design with narrative interviews, and explains why megaprojects may be improved by maintaining time and choosing simplification. Six stakeholders share their opinions about the project and underline that no surprises were observed because of properly managed time and costs. Decisions should be made within a predictable path, and uncertainty can be avoided if no complex tasks and expectations are established. Uncertainty is a situation when potential outcomes are impossible to predict, which makes this concept an antonym to project planning. The study proves that project planning brings benefits when managers reduce worries and simplify responsibilities. In the latter stages of project planning, it is possible to reduce uncertainty by breaking tasks into pieces and taking sequential steps to keep all things manageable and less problematic. The only recommendation is not to cross the line when a problem could become too simple and uninteresting.\n",
      "Project planning by Giezen has many advantages and disadvantages that should be recognized. Communication with people who have experienced the offered method of planning and management allows obtaining real opinions and learning what outcomes to be achieved. Still, there are many research projects where time and cost factors are discussed. Someone could find this article as a possibility to simplify everything, which may be a solution for many organizations.\n",
      "The authors investigate the optimization of human resource allocation in multi-projects introduced by research and development organizations. Most people prefer to integrate project planning into single situations and achieve short-term goals. However, they also need to be involved in multi-project environments, which makes resource allocation more complex and unpredictable. This team of researchers describes the importance of five methods for people to be used in project management. Long-term plans are based on annual reports and multiple disciplines that could affect a project. Although medium-term plans are not always stable, they help observe change and choose portfolios for current decision-making. Short-term plans include daily activities that promote harmony between people and resources. If the resource dedication profile is changed for any reason, managers should be transferred to new team members, like all-round project members, experts, or service employees. Links make it possible to decide properly, while feedback shows how to improve allocation at the moment. Thus, resource allocation in response to the current profile affects the performance level and attitudes of all participants.\n",
      "\n",
      "\n",
      "\n",
      "Human resource allocation becomes a less challenging task for modern organizations because of constantly developing technologies and software. People take responsibility for problem-solving and decision-making in project planning, but they like to keep it as simple as possible using project-scatter factor and resource dedication profile. The article teaches that it is normal to find many people for one task to be completed (project-scatter factor) and strengthen their knowledge in the chosen field with available resources (resource dedication profile).\n",
      "The role of stakeholders in project planning remains a common topic for discussion in many studies. The purpose of this article is to assess the level of stakeholder involvement in project management and the contributions these people make, relying on their knowledge, skills, and resources. Project success is usually determined by such factors as time, quality, cost, involvement, and satisfaction of stakeholders, who are owners, managers, designers, and contractors. A questionnaire-based survey proves that contractors and designers are not highly involved in planning activities, and owners and developers are responsible for project development. The research group divides a data collection process into several groups, from general to more concrete. For example, the first part of the questionnaire is necessary to gather information about stakeholders, their demographic features, work experiences, and responsibilities. The second part of the survey consists of 37 questions and is created to examine the current level of stakeholder involvement.\n",
      "Despite a small sample size (surveys from 13 people), the authors objectively examine owners’, managers’, contractors’, and designers’ opinions for the construction industry. Data consistency is ensured by the several properly taken processes, like data categorization, editing, coding, and storage. Descriptive statistical analysis helps remove unnecessary biases from the study. Thus, this work provides a valuable understanding of stakeholders’ roles and proves that decision-making, problem-solving, goal-identification, and strategic choices contribute to successful project planning. Further implementation of the results is possible to show how stakeholders may develop their skills and contribute to planning in the most effective way.\n",
      "Biomedical research, as well as any other research project, requires specific planning, evaluation, and contribution. In this article, a group of researchers shares a report about the Human Variome Project (HVP) planning meeting. The purpose of this organization is to exchange information about the role of mutations in human disease progression and create a working cyberinfrastructure to control processes. The reader learns that goal identification and role division are not enough to succeed in project management. Even a simple meeting should consist of multiple steps, such as variation classification, data gathering, assessment, data transferring, integration, funding, ethical consideration, and publication. Different participants have specific impacts on projects, and their choices depend on personal interests, external environments, and even social expectations. This project is not a simple enumeration of tasks and recommendations but an illustrative example of how planning is represented through the HVP objectives. Without focusing on the nature of the project, its planning should involve background associations, standardized systems, available software, structure mechanisms, and support for communication, ethical rights, and development.\n",
      "On the one hand, this article has nothing in common with project management and the factors that determine planning. The authors use many complex terms, and an ordinary project manager involved in business, construction, or healthcare project can be confused about the quality of information. On the other hand, evident limitations of existing knowledge and the specific nature of the initiative do not prevent using this material in different fields and seeing how to organize thoughts and actions.\n",
      "Project management is a complex process with a number of significant elements like planning, execution, controlling, and evaluation. Each step has its goals and resources to be properly completed as per the deadlines set. Structure planning processes facilitate human activities, execution is how all tasks are performed, and control shows if any change is required. In this article, the Guide to the Project Management Body of Knowledge is used to promote the theoretical background for the development of practical skills. There are two major theories to be discussed in this study and to manage the successful execution of strategies. On the one hand, the thermostat model enhances control through performance standards, measurement, and variance identification. On the other hand, the management-as-planning model enables the creation and revision of problems and the implementation of plans through a strong causal connection between human decisions and actions. Theoretical explanations and consolidation allow reducing concerns and choosing the most appropriate methods for learning the reasons for poor performance, identifying new resources, and involving the right people.\n",
      "The authors introduce the steps that can be taken to increase business value and organizational success. The offered theoretical framework validates the findings and serves as a solid background for new planning and management projects. There are no clear examples of how companies may use these reformations and recommendations based on decision-making decentralization and informal coordination. Managers know that they affect and manipulate actual costs, but they do not understand how to apply this theoretical knowledge into practice.\n",
      "Using the example of environmental management, McDonald and Brown investigate the benefits and challenges of environmental impact assessment (EIA) in project planning and design. EIA is a managerial tool for planning professionals and decision-makers to examine how the environment impacts a project within the biophysical and socioeconomic context. This approach brings the possibility to address the matters that are hard to learn on an ordinary project-by-project basis. EIA helps reduce negative outcomes caused by the unfavorable or constantly changing environment and observe success in mitigating concerns. The authors suggest going beyond EIA and focusing on such tasks as cumulative analysis (to include several areas of business), responsibility encouragement (to empower communities), and connection between policies (to promote adequate incorporation of ideas). The integration of the environment into planning requires the analysis of goals. People want to find additional sources for stimulation and education and remove ineffective policies in order to present new solutions and efficient EIA processes.\n",
      "The research for this article includes the analysis of nine sources published between the 1980s and 1990s. Regarding the goals of the study, the authors succeed in choosing appropriate data and analyzing what has already been known about EIA and what can be improved. Environmental issues must be recognized in project planning and used to support managers and their leaders in finding interesting academic disciplines, planning activities, and evaluating models. In other words, attention should be paid not only to professional growth and guidelines but to creative development and individual approaches in management.\n",
      "Nutt offers an implementation approach to succeed in project planning and fit the organizational environment by using power for plan adoption and further development. Power may be promoted through reward, punishment, understanding what is right and required, following the examples of others (experts), and information (perceptions of other people). Climate has to be assessed in terms of centralization, complexity, production, and efficiency to choose the most appropriate implementation method. This study contains valid information about implementation techniques of three types: unilateral (replacement or change), manipulative (persuasion or gaming), and delegated (participation in planning).\n",
      "Planning is differently organized as per the offered environments, their goals, power, and techniques. Collegial environments are characterized by participatory planning, with no attention to power usage. Professional environments focus on the development of skills and independent decision-making. Nova environments support change and demand diverse skills from people. Consultive environments promotes understanding the matter, while liberated environments require understanding participants’ needs. Abdicated environments use all forms of control before planning, and delegated environments initiate planning using common thoughts and approaches. Other environments also prove the worth of planning in any project.\n",
      "This article provides new insight into the conditions under which people use power during their planning activities. The worth of climate should not be ignored because people depend on the environment and available resources. It is not enough to find some time and start planning a project. Each situation is unique not only due to its people but due to the environments where projects are created.\n",
      "Many factors challenge project management, and people are interested in dealing with or predicting unnecessary problems. In this article, attention is paid to three project planning factors: uncertainty, ambiguity, and complexity. The authors suggest expressing each concept regarding information adequacy and three strategic approaches, namely instructionism, learning, and selectionism. Uncertainty is the inability to predict outcomes, and instructionism effectively avoids it by restricting steps and following standards. Ambiguity is associated with poor knowledge and limited experiences, and the learning method shows how to modify policies and acquire new ideas. Complexity occurs when many variables interact with each other, and the task of a manager is to make the right choice. Selectionism is the best option for this case to respond to complex tasks. Relying on calculations and specially developed formulas, the researchers conceptualize a project as a process that depends on actions and knowledge.\n",
      "In this article, several theoretical and practical contributions may be identified. On the one hand, the theory is based on the critical path method, stochastic networks, and decision trees when adequate information is presented and transformed. On the other hand, this model helps deal with uncertainty, ambiguity, and complexity and classify information at each step for planning, coordinating, and monitoring. The results of this article contribute to the establishment of correct project management tasks and the recognition of planning as an inevitable part of any working process. Despite the existing organizational challenges, this study teaches how to make robust decisions and choose the necessary project information.\n",
      "Modern managers are free to address different sources to improve their understanding of project management in general and project planning in particular. Zwikael offers to use the Project Management Body of Knowledge (PMBOK) guide where nine areas of knowledge (integration, scope, time, cost, quality, human resources, communications, risk, and procurement) are identified as independent variables and explained. The purpose of this study is to investigate the importance of these areas in a planning process and reveal if there is some relationship with project success. A field study involves 783 project managers who anonymously participate in a questionnaire. They have to assess various planning processes through the prism of the offered areas of knowledge and reveal what success is more evident. Different levels of influence are identified, with time having the severest outcome and cost or procurement having the lowest impact.\n",
      "The worth of this source is in the recommendations that the author shares at the end. In addition to the evident influence of time management on project planning, project managers should also invest their skills in identifying project activities and formal outputs. Quality and communications measure the planning effectiveness, but the guide is not the only source to use in a working process. The application of the findings requires attention to its limitations in regard to generalizability: poor sample size (only three countries – Japan, New Zealand, and Israel) and the only guide for analysis. Project planning is constantly changing, and managers should understand the impact of change in their practice.\n",
      "The purpose of this article is to create a model for evaluating project planning quality, which contributes to increased chances of project success. If managers are not able to avoid mistakes in planning and present faulty information, project failure may occur and challenge the company. Therefore, the development and implementation of effective models are highly promoted in modern business. Zwikael and Globerson conducted a quantitative study based on 202 (out of 282) questionnaires that managers from 19 different workshops completed anonymously. The Project Management Planning Quality model is introduced with two main components – project manager’s know-how (a person is responsible for certain processes) and organizational support (an organization is responsible for certain processes). The tests of the model prove its validity and reliability to assess the quality of project planning. Risk management and communication processes are not as critical as time management, and individual responsibility is more effective compared to organizational one.\n",
      "There are many reasons for applying this article in further studies, and one of them is the possibility to use it across different industries. Project planning seems to be evident for all managers, but its predictability and distinctness may provoke negative outcomes and mistakes. Therefore, organizations need to follow specific guides and recommendations not to miss a single step in their working process. The offered model effectively identifies the differences between project planning quality and its external factors like time, resources, and environments. Despite its limited research sample, the quality of planning remains the same in different industries.\n",
      "Project management can become a serious challenge for any organization in any industry, regardless of the level of its preparedness and experience. Therefore, researchers investigate various projects and cooperate with companies worldwide to understand what causes uncertainty, faulty data exchange, and responsibility misunderstandings. Zwikael and Globerson continue their research about project planning and offer benchmarking as an effective method in project management to compare different approaches and performance metrics. The Project Management Planning Quality model is used to analyze the effectiveness of the planning process in several industries from the point of view of a manager and the entire company. A questionnaire is offered to 280 managers from Japan and Israel, and four sectors – construction & engineering, software & communication, production & maintenance, and services – are chosen. The most successful area in terms of project management is construction, and the authors use its project-oriented nature as the main excuse. Production & maintenance is the least successful industry because of the impossibility of understanding the difference between management and maintenance.\n",
      "The value of this study is the exploration of the existing project management practices in four specific sectors. Thus, even if an organization does not belong to the industry mentioned in the article, there is a chance to improve project planning and achieve success using the recommendations. Sometimes, managers cannot access information about previous projects, which reduces the possibility of avoiding risks and mistakes. Another lesson is that no attention to customer satisfaction levels or time management also creates challenges. That is my final conclusion and thoughts.\n"
     ]
    }
   ],
   "source": [
    "\n",
    "\n",
    "import nltk\n",
    "from nltk.book import *\n",
    "\n",
    "import numpy\n",
    "import matplotlib\n",
    "\n",
    "\n",
    "\n",
    "import nltk\n",
    "from nltk.corpus import gutenberg\n",
    "\n",
    "import nltk\n",
    "from nltk.stem import PorterStemmer\n",
    "from nltk.tokenize import word_tokenize\n",
    "\n",
    "\n",
    "#Assignment 1, Corpus 1 (entire file is just for Corpus 1 )\n",
    "\n",
    "\n",
    "filePath = \"./Information technology projects consist of many elements that contribute to their success or failure.txt\"\n",
    "with open(filePath, \"r\") as f:\n",
    "   \n",
    "    text1 = f.read()\n",
    "    \n",
    "\n",
    "print(text1)\n",
    "\n"
   ]
  },
  {
   "cell_type": "code",
   "execution_count": 97,
   "id": "911d8404-90a8-49af-beb0-46a8a859e0d8",
   "metadata": {
    "tags": []
   },
   "outputs": [
    {
     "name": "stdout",
     "output_type": "stream",
     "text": [
      "Length (in words): 34975\n"
     ]
    }
   ],
   "source": [
    "#Question 1, the length in words\n",
    "\n",
    "words = text1\n",
    "words = len(words)\n",
    "\n",
    "\n",
    "\n",
    "\n",
    "print(\"Length (in words):\", words)\n",
    "\n",
    "\n"
   ]
  },
  {
   "cell_type": "code",
   "execution_count": 99,
   "id": "3099d290-27f1-4662-ae61-f3b382374c43",
   "metadata": {
    "tags": []
   },
   "outputs": [
    {
     "name": "stdout",
     "output_type": "stream",
     "text": [
      "Lexical Diversity: 0.002030021443888492\n"
     ]
    }
   ],
   "source": [
    "\n",
    "#Question 2\n",
    "\n",
    "def lexical_diversity(words):\n",
    "    return len(set(words)) / len(words)\n",
    "\n",
    "\n",
    "words = text1\n",
    "\n",
    "\n",
    "diversity = lexical_diversity(words)\n",
    "print(\"Lexical Diversity:\", diversity)\n"
   ]
  },
  {
   "cell_type": "code",
   "execution_count": 88,
   "id": "e2d6da80-dbf1-464e-af80-ed749f40b661",
   "metadata": {
    "tags": []
   },
   "outputs": [
    {
     "name": "stdout",
     "output_type": "stream",
     "text": [
      "Top 10 most frequent words (after removing punctuation and converting to lowercase): [('the', 300), ('and', 292), ('of', 163), ('to', 162), ('project', 106), ('in', 101), ('planning', 92), ('is', 87), ('a', 73), ('this', 55)]\n"
     ]
    }
   ],
   "source": [
    "\n",
    "\n",
    "#Question 3\n",
    "\n",
    "import nltk\n",
    "from nltk.probability import FreqDist\n",
    "from nltk.tokenize import word_tokenize\n",
    "\n",
    "words = word_tokenize(text1)\n",
    "\n",
    "\n",
    "filtered_words = [w.lower() for w in words if w.isalpha()]\n",
    "\n",
    "\n",
    "freq_dist = FreqDist(filtered_words)\n",
    "\n",
    "\n",
    "top_10_words = freq_dist.most_common(10)\n",
    "\n",
    "print(\"Top 10 most frequent words (after removing punctuation and converting to lowercase):\", top_10_words)\n",
    "\n"
   ]
  },
  {
   "cell_type": "code",
   "execution_count": 89,
   "id": "b78291ff-de70-4b99-af92-95f83f04ad2b",
   "metadata": {
    "tags": []
   },
   "outputs": [
    {
     "name": "stdout",
     "output_type": "stream",
     "text": [
      "Top 10 most frequent words (at least 10 characters long): [('management', 39), ('environments', 19), ('information', 15), ('development', 13), ('activities', 12), ('approaches', 11), ('uncertainty', 10), ('understanding', 10), ('organizations', 9), ('complexity', 8)]\n"
     ]
    }
   ],
   "source": [
    "# Question 4, words that are at least 10 characters long and their counts\n",
    "\n",
    "long_words = [word for word in filtered_words if len(word) >= 10]\n",
    "long_word_freq = FreqDist(long_words)\n",
    "\n",
    "\n",
    "top_10_long_words = long_word_freq.most_common(10)\n",
    "\n",
    "print(\"Top 10 most frequent words (at least 10 characters long):\", top_10_long_words)\n"
   ]
  },
  {
   "cell_type": "code",
   "execution_count": 90,
   "id": "7d2186fd-1fed-4896-a8ae-2efdb316cf29",
   "metadata": {
    "tags": []
   },
   "outputs": [
    {
     "name": "stdout",
     "output_type": "stream",
     "text": [
      "54\n",
      "['Although', 'the', 'findings', 'remain', 'objective', 'and', 'limited', 'in', 'terms', 'of', 'participants', 'and', 'variables', ',', 'they', 'enhance', 'understanding', 'of', 'project', 'management', 'in', 'developing', 'countries', 'to', 'control', 'The', 'ways', 'of', 'how', 'organizations', 'and', 'people', 'plan', 'their', 'projects', 'depend', 'on', 'multiple', 'factors', ',', 'and', 'one', 'of', 'them', 'is', 'to', 'understand', 'the', 'overall', 'purpose', 'of', 'this', 'process', '.']\n",
      "Word count is: 54\n"
     ]
    }
   ],
   "source": [
    "\n",
    "\n",
    "\n",
    "#Question 5 \n",
    "\n",
    "lib_sentence = gutenberg.sents(\"/Users/ana/downloads/Information technology projects consist of many elements that contribute to their success or failure.txt\")\n",
    "\n",
    "\n",
    "\n",
    "\n",
    "\n",
    "longest_len= max(len(s) for s in lib_sentence)\n",
    "for s in lib_sentence: \n",
    "    if len(s) == longest_len:\n",
    "        print(len(s))\n",
    "        print(s)\n",
    "\n",
    "\n",
    "print(\"Word count is:\", longest_len)\n"
   ]
  },
  {
   "cell_type": "code",
   "execution_count": 91,
   "id": "fee80dc7-3ab6-42d7-b529-8900dca068eb",
   "metadata": {
    "tags": []
   },
   "outputs": [
    {
     "name": "stdout",
     "output_type": "stream",
     "text": [
      "Although            although            \n",
      "'                   '                   \n",
      ",                   ,                   \n",
      "'the                'the                \n",
      "'                   '                   \n",
      ",                   ,                   \n",
      "'findings           'find               \n",
      "'                   '                   \n",
      ",                   ,                   \n",
      "'remain             'remain             \n",
      "'                   '                   \n",
      ",                   ,                   \n",
      "'objective          'object             \n",
      "'                   '                   \n",
      ",                   ,                   \n",
      "'and                'and                \n",
      "'                   '                   \n",
      ",                   ,                   \n",
      "'limited            'limit              \n",
      "'                   '                   \n",
      ",                   ,                   \n",
      "'in                 'in                 \n",
      "'                   '                   \n",
      ",                   ,                   \n",
      "'terms              'term               \n",
      "'                   '                   \n",
      ",                   ,                   \n",
      "'of                 'of                 \n",
      "'                   '                   \n",
      ",                   ,                   \n",
      "'participants       'particip           \n",
      "'                   '                   \n",
      ",                   ,                   \n",
      "'and                'and                \n",
      "'                   '                   \n",
      ",                   ,                   \n",
      "'variables          'variabl            \n",
      "'                   '                   \n",
      ",                   ,                   \n",
      "'                   '                   \n",
      ",                   ,                   \n",
      "'                   '                   \n",
      ",                   ,                   \n",
      "'they               'they               \n",
      "'                   '                   \n",
      ",                   ,                   \n",
      "'enhance            'enhanc             \n",
      "'                   '                   \n",
      ",                   ,                   \n",
      "'understanding      'understand         \n",
      "'                   '                   \n",
      ",                   ,                   \n",
      "'of                 'of                 \n",
      "'                   '                   \n",
      ",                   ,                   \n",
      "'project            'project            \n",
      "'                   '                   \n",
      ",                   ,                   \n",
      "'management         'manag              \n",
      "'                   '                   \n",
      ",                   ,                   \n",
      "'in                 'in                 \n",
      "'                   '                   \n",
      ",                   ,                   \n",
      "'developing         'develop            \n",
      "'                   '                   \n",
      ",                   ,                   \n",
      "'countries          'countri            \n",
      "'                   '                   \n",
      ",                   ,                   \n",
      "'to                 'to                 \n",
      "'                   '                   \n",
      ",                   ,                   \n",
      "'control            'control            \n",
      "'                   '                   \n",
      ",                   ,                   \n",
      "'The                'the                \n",
      "'                   '                   \n",
      ",                   ,                   \n",
      "'ways               'way                \n",
      "'                   '                   \n",
      ",                   ,                   \n",
      "'of                 'of                 \n",
      "'                   '                   \n",
      ",                   ,                   \n",
      "'how                'how                \n",
      "'                   '                   \n",
      ",                   ,                   \n",
      "'organizations      'organ              \n",
      "'                   '                   \n",
      ",                   ,                   \n",
      "'and                'and                \n",
      "'                   '                   \n",
      ",                   ,                   \n",
      "'people             'peopl              \n",
      "'                   '                   \n",
      ",                   ,                   \n",
      "'plan               'plan               \n",
      "'                   '                   \n",
      ",                   ,                   \n",
      "'their              'their              \n",
      "'                   '                   \n",
      ",                   ,                   \n",
      "'projects           'project            \n",
      "'                   '                   \n",
      ",                   ,                   \n",
      "'depend             'depend             \n",
      "'                   '                   \n",
      ",                   ,                   \n",
      "'on                 'on                 \n",
      "'                   '                   \n",
      ",                   ,                   \n",
      "'multiple           'multipl            \n",
      "'                   '                   \n",
      ",                   ,                   \n",
      "'factors            'factor             \n",
      "'                   '                   \n",
      ",                   ,                   \n",
      "'                   '                   \n",
      ",                   ,                   \n",
      "'                   '                   \n",
      ",                   ,                   \n",
      "'and                'and                \n",
      "'                   '                   \n",
      ",                   ,                   \n",
      "'one                'one                \n",
      "'                   '                   \n",
      ",                   ,                   \n",
      "'of                 'of                 \n",
      "'                   '                   \n",
      ",                   ,                   \n",
      "'them               'them               \n",
      "'                   '                   \n",
      ",                   ,                   \n",
      "'is                 'i                  \n",
      "'                   '                   \n",
      ",                   ,                   \n",
      "'to                 'to                 \n",
      "'                   '                   \n",
      ",                   ,                   \n",
      "'understand         'understand         \n",
      "'                   '                   \n",
      ",                   ,                   \n",
      "'the                'the                \n",
      "'                   '                   \n",
      ",                   ,                   \n",
      "'overall            'overal             \n",
      "'                   '                   \n",
      ",                   ,                   \n",
      "'purpose            'purpos             \n",
      "'                   '                   \n",
      ",                   ,                   \n",
      "'of                 'of                 \n",
      "'                   '                   \n",
      ",                   ,                   \n",
      "'this               'thi                \n",
      "'                   '                   \n",
      ",                   ,                   \n",
      "'process            'process            \n",
      "'                   '                   \n",
      ",                   ,                   \n",
      "'                   '                   \n",
      ".                   .                   \n"
     ]
    }
   ],
   "source": [
    "\n",
    "\n",
    "#Question 6, stemmed sentence \n",
    "\n",
    "\n",
    "ps = PorterStemmer()\n",
    "\n",
    "sentence = \"Although', 'the', 'findings', 'remain', 'objective', 'and', 'limited', 'in', 'terms', 'of', 'participants', 'and', 'variables', ',', 'they', 'enhance', 'understanding', 'of', 'project', 'management', 'in', 'developing', 'countries', 'to', 'control', 'The', 'ways', 'of', 'how', 'organizations', 'and', 'people', 'plan', 'their', 'projects', 'depend', 'on', 'multiple', 'factors', ',', 'and', 'one', 'of', 'them', 'is', 'to', 'understand', 'the', 'overall', 'purpose', 'of', 'this', 'process', '.\"\n",
    "\n",
    "words = word_tokenize(sentence)\n",
    "\n",
    "for word in words:\n",
    "   print (\"{0:20}{1:20}\".format(word, ps.stem(word)))\n",
    "\n",
    "\n",
    "\n",
    "\n",
    "\n"
   ]
  },
  {
   "cell_type": "code",
   "execution_count": null,
   "id": "c928870d-bc59-40a5-b3b9-2323d1cd851f",
   "metadata": {},
   "outputs": [],
   "source": []
  }
 ],
 "metadata": {
  "kernelspec": {
   "display_name": "Python 3 (ipykernel)",
   "language": "python",
   "name": "python3"
  },
  "language_info": {
   "codemirror_mode": {
    "name": "ipython",
    "version": 3
   },
   "file_extension": ".py",
   "mimetype": "text/x-python",
   "name": "python",
   "nbconvert_exporter": "python",
   "pygments_lexer": "ipython3",
   "version": "3.11.4"
  }
 },
 "nbformat": 4,
 "nbformat_minor": 5
}
