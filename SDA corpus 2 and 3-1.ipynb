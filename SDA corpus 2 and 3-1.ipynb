{
 "cells": [
  {
   "cell_type": "markdown",
   "id": "7fd9c7a6-5588-4075-bd2b-8f55b6cac611",
   "metadata": {},
   "source": [
    "#Please note this file contains Corpus 2 and 3\n",
    "\n",
    "\n"
   ]
  },
  {
   "cell_type": "code",
   "execution_count": 39,
   "id": "0c095d74",
   "metadata": {
    "tags": []
   },
   "outputs": [],
   "source": [
    "import nltk\n",
    "from nltk.book import *"
   ]
  },
  {
   "cell_type": "code",
   "execution_count": 40,
   "id": "369d1823",
   "metadata": {
    "tags": []
   },
   "outputs": [],
   "source": [
    "import numpy\n",
    "import matplotlib"
   ]
  },
  {
   "cell_type": "code",
   "execution_count": 41,
   "id": "7f753c5a",
   "metadata": {
    "tags": []
   },
   "outputs": [],
   "source": [
    "from nltk.corpus import PlaintextCorpusReader\n"
   ]
  },
  {
   "cell_type": "code",
   "execution_count": 42,
   "id": "093621fe",
   "metadata": {
    "tags": []
   },
   "outputs": [
    {
     "name": "stdout",
     "output_type": "stream",
     "text": [
      "/Users/ana/Downloads\n",
      "['2021 Census of Population geographic summary_ 9330033.01 [Census tract], British Columbia_files', 'POL315 Lab 6 2023 BLANK.Rmd', 'A H Resume .pdf', 'Guide #4 - How To Control and Manage Your R Workspace.pdf', 'affective-power-city-council-mtgs.pdf', 'pol315_multicol.dta', 'stat (3).pdf', 'final project-steve.Rmd', 'Group Project 2 - Answer Key.html', 'PS1-update.Rmd', 'Anaconda3-2023.07-2-MacOSX-x86_64 (1).pkg', 'Course Project_ final draft.docx', 'Lecture - Parsing Text with stringr package (1).Rmd', 'finished problem set 2.Rmd', 'Municipal Election project notes.docx', 'CL.pdf', 'Policy Project.docx', '.Rhistory', 'almost finished problem set 2.Rmd', 'dataverse_files.zip', 'A. Resume .pdf', 'Moser-IndependentsPartyFormation-1999.pdf', 'NUTS1_Jan_2018_SGCB_in_the_UK_2022_-1211818472919078414', 'ggplot2 Cheat Sheet (1).pdf', '2021 Canadian Election Study v1.0.dta', 'ces2021_small.dta', 'Anna H Resume (1).pdf', 'cover letter  .docx', 'POL315 Multicollinearity BLANK.Rmd', 'Movie on 2023-07-07 at 11.57 AM.mov.zip', 'ggplot2 Cheat Sheet.pdf', 'ps2_data (1).csv', 'CensusProfile2021-ProfilRecensement2021-20230616014239.csv', 'Guide #6 - How To Remove Observations and Access Subsets of Data (with ggplot2) (6).pdf', 'A. H. Resume .pdf', 'RStudio-2023.06.0-421.dmg', 'PS1-update.pdf', 'Interview Skills.pdf', 'POL 201 - Mapping Introduction (2).Rmd', 'AH cover letter.pdf', 'Tutorial 1.4 - Importing Data Sets.mp4', 'is bib.pdf', 'GSW 399 survery test.pdf', 'Parliamentary_Constituency_Boundaries.csv', 'RStudio-2023.09.0-463.dmg', 'R-4.2.1-arm64.pkg', 'PS2-Questions-4.Rmd', 'A.+Resume+.pdf', 'A. H. Resume (4).pdf', 'Voter turnout in Canada.txt', 'PS2-Questions-4.pdf', 'final assignment in pol390.Rmd', 'vancitybankdoc.pdf', 'Assignment1_prep.ipynb', 'i.jpg', 'PS1.Rmd', 'RStudio-2022.12.0-353.dmg', 'case description.pdf', 'POL315 Lab W3.Rmd', 'statwork.docx', '2021 Canadian Election Study v1.0 (1).dta', 'evoting in election.docx', '.DS_Store', 'Lecture 2.1 - Markdown and R Code Chunks (1).Rmd', 'PS2-Questions-pol315.pdf', 'fully completed problem set 1.Rmd', 'Displaying Regression Results.Rmd', 'A. H. Resume (5).pdf', 'constructing-tables-babbie.pdf', 'lab.jpg', 'POL315 Lab W3 (2).Rmd', 'video.mov', 'Exam-2-pol-201.html', 'CAT_Data_and_Sources_June22.zip', 'cover letter (2) (1).pdf', 'doi_10.7910_DVN_XBZHKC-2021 Canadian Election Study v1.0-endnote.xml', 'EU_Ref_Leave_Remain_RedBlue_52Split.png', 'ps2a (1).Rmd', '1669415263_610__Turnout.csv', 'lab.pdf', 'Letter.odt', 'Lecture on Accessing Data from Web and APIs.html', '011.pdf', 'Group Project 2 - Answer Key (1).html', 'pol 339-russia china outline essay.docx', 'race-summary-AL03--2020-2023-03-07 (1).csv', 'lab 3b.Rmd', 'texshop.zip', 'New Recording.m4a', 'Countries Data Set - Variable List (1).pdf', 'finalassignment4.Rmd', '.localized', 'Policy Project, Executive Summary, GSWS 350, Anika Darts.pdf', '111111.pdf', 'stat (2).pdf', 'statwork (4).pdf', 'exam 2.Rmd', 'Lecture on Accessing Data from Web and APIs.qmd', ' Professional Resume .pdf', 'POL390-Syllabus--Spring-2023-.html', 'HW 3 - Example.Rmd', 'Lab1 (1).ipynb', 'file_paths.ipynb', 'HW 3 - Campaign Spending.Rmd', 'Information technology projects consist of many elements that contribute to their success or failure.txt', 'datacatalogueedition6final.xls', 'sda final assegni 1 .ipynb', 'Presentation schedule-3.docx', 'Letter.pdf', 'EU-referendum-result-data (3).csv', 'A. H. Resume (2).pdf', 'POL 201 Survey Codebook (1).pdf', 'Lecture 2.1 - Markdown and R Code Chunks (6).Rmd', 'Voter turnout in Canada.Rmd', 'AdGuardInstaller.dmg', 'Plotly - Interactive Graphs.Rmd', 'gtfs.zip', 'Sephora Resume (1).pdf', 'Lecture - Parsing Text with stringr package.Rmd', 'Letter (3).pdf', '98-316-XWE2011001-401_CSV 3', 'tryAGAINknit-1 (8).Rmd', 'POL 201 Survey Codebook.pdf', 'lab-2-anan101011-main.zip', 'true.txt', 'scaling_data (1).csv', 'russia elite.pdf', 'Griffin Cohen-Public_Policy_for_Women_The_State_Income_Security_Introduction_Going_too_Far.pdf', 'Genocide as Externality - 2020-06-01, 2.29 PM.m4a', 'Guide #3 - How To Load Data Sets for Analysis (1).pdf', 'A. H. Resume.docx', 'final assignment in pol390 (1).Rmd', '“Is public funding for political parties and candidates a good idea.docx', 'PS2 Questions-3.Rmd', 'Employee Information Form 2022 copy.pdf', 'statwork (3).pdf', 'A Resume .pdf', 'IMG_0903.HEIC', 'quiz 2.pdf', 'Lecture-2.1---Markdown-and-R-Code-Chunks_files', 'PS2 Questions-pol315.Rmd', 'What is the source trying to do? Does it succeed in doing this?-2.notesairdropdocument', 'userguide.doc', 'ps2_data.csv', 'Course Project_ first draft (1).docx', 'lab week 3.Rmd', 'immigration_data.csv', 'ces2021_ps1.dta', 'regex (3).ipynb', 'pol 339-russia china outline essay (1).docx', '98-316-XWE2011001-401_CSV 2', 'Griffin Cohen-Public_Policy_for_Women_The_State_Income_Security_Introduction_Going_too_Far (1).pdf', 'statwork.pdf', 'POL315 Lab W 10 BLANK 2022.Rmd', 'PS2 Questions-2.Rmd', 'R Script for barplots, boxplots, and scatterplots with ggplot2.R', 'Research Proposal.pdf', '2021 Census of Population geographic summary_ 9330033.01 [Census tract], British Columbia.html', 'Height_And_Weight.csv', 'ukmye2015.zip', '_cover letter .docx', 'Payworks.pdf', 'Guide #6 - How To Remove Observations and Access Subsets of Data (with ggplot2) (1).pdf', 'Introduction to Politics (Robert Garner, Stephanie Lawson etc.) (z-lib.org).pdf', 'pandoc-3.1.8-1-amd64.deb', 'evoting in election (1).docx', 'MacTeX.pkg', 'Introduction.docx', 'regex.ipynb', 'project set 1.Rmd', 'PS1_files', 'Height_And_Weight (1).csv', 'Sephora resume.pdf', 'R-4.2.1-arm64 (1).pkg', 'pol russia artcile ..pdf', 'IMG_0902.HEIC', 'sp.jpg', 'GSWS 824 Policy Project Summary & Bibliography.docx', 'statwork (2).pdf', 'hw3.html', 'presenatition.html', 'Lab2-2.ipynb', 'regex (1).ipynb', 'Anna Hothi Resume.pdf', 'lab1complete.ipynb', '11.jpg', 'IMG_0963.HEIC', 'HW1 (1).html', 'mid-year-pop-est-21-time-series-data.xlsx', 'Guide #6 - How To Remove Observations and Access Subsets of Data (with ggplot2).pdf', 'SAPE20DT7-mid-2016-parlicon-syoa-estimates-unformatted.xls', 'ukmye2015', 'project-set-1.html', 'h (1).pdf', 'Letter (2).pdf', 'IMG_1325.HEIC', 'Lecture - Data Types, Subsetting, and For Loops (1).Rmd', 'Letter (1).docx', 'Article_10_28_2022, 2_54_03 AM.doc', 'chart.pdf', 'A. H. Resume (3).pdf', '1000.heic', 'Lab_Intro_R (1).Rmd', 'EU-referendum-result-data (2).csv', 'Guide #3 - How To Load Data Sets for Analysis.pdf', 'final-assignment-in-pol390--1-.html', '2021 Canadian Election Study v1.0.tab', 'HW-3---Campaign-Spending.html', 'infuse_ctry_2011', 'PS2 Questions-4.Rmd', '2021 Canadian Election Study v1.0.RData', 'POL315 Multicollinearity BLANK (1).Rmd', 'Plotly - Interactive Graphs (1).Rmd', 'Lecture-on-Accessing-Data-from-Web-and-APIs_files', 'qog_small.csv', 'Cover Letter.pdf', 'Install Spotify.app', 'Background and Codebook.pdf', '2021S05079330033.01 (1).jpg', 'Movie on 2023-07-07 at 11.57 AM.mov', 'IMG_0999.HEIC', 'POL315 W13 Lab Scaling.Rmd', 'Letter (1).pdf', 'Assignment 3.pdf', 'IS essay .docx.txt', 'A. H. Resume .docx', 'Lecture 2.1 - Markdown and R Code Chunks (4).Rmd', 'SDA corpus 1-2.ipynb', 'A. H. Resume (2) copy.pdf', 'Lecture - Data Types, Subsetting, and For Loops (2).Rmd', 'Resume (3).pdf', 'natural_earth_vector.zip', 'Hothi Resume.docx', 'Lab_Intro_R (2).Rmd', 'EU-referendum-result-data (1).csv', 'Assignment 2.pdf', 'data-wrangling-cheatsheet.pdf', 'PS1 finished rmd.2.Rmd', 'git-2.15.0-intel-universal-mavericks.dmg', 'POL315 Lab W3 BLANK.Rmd', 'gsws datawalk.docx', 'lab-1.html', 'table_tableau12.csv', 'PS2-Questions-4_files', 'A.+H.+Resume.pdf', 'im.doc', 'CensusProfile2021-ProfilRecensement2021-20230615040831.tab', 'Guide #6 - How To Remove Observations and Access Subsets of Data (with ggplot2) (2).pdf', 'module 5.docx', 'Lab2.ipynb', 'SDA corpus 2 and 3-1.ipynb', 'Lab 10A (Code Blues)-1.docx', 'Voter turnout behaviour in Canada.Rmd', 'Week 2 Response Assignment.docx', 'Interactive Maps with leaflet package.Rmd', 'libyaspeech.txt', 'Course Project_ first draft.docx', 'POL315 Lab W 10 2023.Rmd', 'Peer Review of Anika Darts.docx', 'sda work', 'EU-referendum-results-and-characteristics-data.xlsx', 'statwork (1).pdf', 'POL 201 - Mapping Introduction.Rmd', 'dataverse_files', 'CL SFSS.pdf', 'PS2 Questions.Rmd', 'EU-referendum-result-data.csv', 'exam-2.html', 'Homework 1 (Fall 2022).docx', 'HW1.html', '0ws.pdf', '2023 TD1 - Canada BC copy.pdf', 'Anaconda3-2023.07-2-MacOSX-x86_64.pkg', 'HW-3---Campaign-Spending (1).html', 'SDA corpus 1.ipynb', 'Letter.docx', 'POL315 Lab Week 4 2023.Rmd', 'presenatition.Rmd', 'westminster-parliamentary-constituencies', '.RData', 'EU Referendum - electoral data - CSV.zip', 'Minimalist White and Grey Professional Resume (4).pdf', 'ps2a.Rmd', 'Research Question_ What are the largest factors in determining backlash protesting in a country with low democratic consolidation like Ukraine compared to an authoritative democratic country like Russia_ by_Anandjot Hothi (1).pdf', 'Guide #6 - How To Remove Observations and Access Subsets of Data (with ggplot2) (3).pdf', 'module 4.docx', '2021S05079330033.01.pdf', 'whippingstar.txt', 'citations-20220923T064336.bibtex', 'CensusProfile2021-ProfilRecensement2021-20230615030316.csv', 'i.jpg.zip', 'finalassignment4.html', 'dataverse_files (1).zip', 'Countries Data Set - Variable List.pdf', 'lab week 3 (1).Rmd', 'POL 201 Survey Codebook (2).pdf', 'Research Question_ What are the largest factors in determining backlash protesting in a country with low democratic consolidation like Ukraine compared to an authoritative democratic country like Russia_ by_Anandjot Hothi.pdf', 'Resume (2).pdf', '98100014.zip', 'sda assignment 1 part 1.pdf', 'gsws data.pdf', 'gsws_article.docx', 'Lecture - Data Types, Subsetting, and For Loops (3).Rmd', 'Lecture 2.1 - Markdown and R Code Chunks (5).Rmd', 'hw3 files', 'gsws reflection .pdf', '465421527317-5421468439-ticket-2.pdf', 'mcgjeltema,+Turner.pdf', 'Lecture 2.1 - Markdown and R Code Chunks.Rmd', 'Course Project_ Proposal (2).docx', 'completed problem set 1.Rmd', 'Lab_Intro_R.Rmd', 'case description.docx', 'IMG_0961.HEIC', 'A. H. Resume  copy.pdf', 'The-Determinants-of-Voter-Turnout-in-Canada--Regression-Analysis.html', 'SDA corpus 2 and 3.ipynb', '1976-2020-house.RData', '.ipynb_checkpoints', 'regex (2).ipynb', 'pol 351 discussion 1 .docx', 'AH resume.pdf', 'HW 3 - Campaign Spending (1).Rmd', 'Minimalist White and Grey Professional Resume (3).pdf', 'ggplot2 Cheat Sheet (3).pdf', 'My policy project will focus on the city of New Westminster, British Columbia, community strategy for poverty reduction for 2021–2022.pdf', 'hw1.Rmd', 'lab.pdf.zip', 'populationbycountryofbirthandnationalityjan16todec16 (4).xls', 'Example HW #4.html', 'Movie on 2023-07-07 at 11.57 AM.docx', 'FieldExp_Public.dta', 'op.pdf', '1976-2020-house.csv', 'imstat.pdf', 'Introduction to Politics Second Canadian Edition (Robert Garner, Peter Ferdinand etc.) (z-lib.org).pdf', 'Homework 2 (Example).html', 'stat (1).pdf', 'uk_election_data_v2.csv', 'FED_CA_2021_EN', 'problem set 1 markdown.Rmd', 'Earls cover letter .docx', 'POL315 Lab Week 4 2023 BLANK.Rmd', 'table_tableau12 (1).csv', 'Temp.Rmd', 'CamScanner 02-28-2023 12.41.pdf', 'Lab-Week-3.html', 'Resume .pdf', 'wales-latest-free.shp.zip', 'Exam 2 pol 201.Rmd', 'R Script for barplots, boxplots, and scatterplots with ggplot2 (1).R', 'regionalgrossdomesticproductgdpallitlregions.xlsx', '2021 Canadian Election Study v1.0 (2).dta', 'Dear Hiring Manager, I am excited to express my interest in the Administrative Assistant position at your clinic. The opportunity to contribute to a team that values reliability, initiative, and exceptional patient c.pdf', '1565 Willson Place.pdf', 'fully-completed-problem-set-1.html', 'Download_01_31_00.csv', 'C.pdf', '5.pdf', 'Lecture 2.1 - Markdown and R Code Chunks (2).Rmd', 'hw3-3.Rmd', 'hw3.Rmd', 'Lab1.ipynb', 'SDA corpus 2 and 3-2.ipynb', 'GitHubDesktop-x64.zip', 'hw3-2.Rmd', '465421527317-5421468439-ticket.pdf', 'federal_electoral_districts_boundaries_2015_shp_en', 'Policy Project, Executive Summary, GSWS 350, Anika Darts (1).pdf', 'SA week 3.docx', 'gsws article (1).docx', 'Lecture - Bivariate Testing (POL 201 - Fall 2022).pptx', 'h.resume.pdf.pdf', 'HFER_e.csv', 'POL315 Lab W3 (1).Rmd', 'pol 351.pdf', 'Zoom (2).pkg', 'parttime_studies_application.pdf', 'gsws article.docx', 'Yasmeen Abu-Laban_ Ethel Tungohan_ Christina Gabriel - Containing Diversity_ Canada and the Politics of Immigration in the 21st Century-University of Toronto Press (2022).pdf', 'Introduction.pdf', 'Lecture 3.1. dplyr package.Rmd', 'Voter turunout behaviour in Canada.Rmd', 'Lecture 2.1 - Markdown and R Code Chunks (3).Rmd', 'stat.pdf', '1.pdf', 'student_practice.csv', 'CleanMyMacX.dmg', 'CamScanner 02-28-2023 12.45.pdf', 'datawalk - Download_01_31_00.pdf', 'gsws_article_EG.docx', 'Mahatma Gandhi Edited by Louis Fischer - The Essential Gandhi-Knopf Doubleday Publishing Group (2012).epub', 'i copy.jpg', 'scaling_data.csv', 'Lecture - Parsing Text with stringr package (2).Rmd', 'PS1 (1).Rmd', 'IMG_0843.HEIC', '2021 Canadian Election Study Technical Report and Codebook v1.pdf', 'Vancity.pdf', 'POL315 Lab Week 5 2023 BLANK.Rmd', 'Anna H Resume.pdf', 'R.pdf', 'canlitreviews,+CL_230-231_Nikikiwan(Hunt).pdf', 'gsws datawalk (1).docx', 'hw-1.html', 'Lecture - Data Types, Subsetting, and For Loops.Rmd', 'week 4 maps.Rmd', 'Course Project_ Proposal (1).docx', 'Minimalist White and Grey Professional Resume (2).pdf', 'ggplot2 Cheat Sheet (2).pdf', 'lab-1 (1).html', 'hw3-4.Rmd', 'POL315 Week 9 Lab Outliers BLANK.Rmd', 'A. H. Resume.pdf', 'gsws field workanalysis paper.docx', '98-316-XWE2011001-401_CSV.zip', 'Guide #6 - How To Remove Observations and Access Subsets of Data (with ggplot2) (5).pdf', 'Unconfirmed 641962.crdownload', 'The Determinants of Voter Turnout in Canada- Regression Analysis.Rmd', 'lab-2-anan101011-main (1).zip', 'quiz 3 .docx', '98-316-XWE2011001-401_CSV', 'dataverse_files 2', 'POL 201 - Mapping Introduction (1).Rmd']\n"
     ]
    }
   ],
   "source": [
    "import os\n",
    "\n",
    "\n",
    "print(os.getcwd())\n",
    "\n",
    "print(os.listdir())"
   ]
  },
  {
   "cell_type": "code",
   "execution_count": 43,
   "id": "efb8d30e",
   "metadata": {
    "tags": []
   },
   "outputs": [
    {
     "data": {
      "text/plain": [
       "['austen-emma.txt',\n",
       " 'austen-persuasion.txt',\n",
       " 'austen-sense.txt',\n",
       " 'bible-kjv.txt',\n",
       " 'blake-poems.txt',\n",
       " 'bryant-stories.txt',\n",
       " 'burgess-busterbrown.txt',\n",
       " 'carroll-alice.txt',\n",
       " 'chesterton-ball.txt',\n",
       " 'chesterton-brown.txt',\n",
       " 'chesterton-thursday.txt',\n",
       " 'edgeworth-parents.txt',\n",
       " 'melville-moby_dick.txt',\n",
       " 'milton-paradise.txt',\n",
       " 'shakespeare-caesar.txt',\n",
       " 'shakespeare-hamlet.txt',\n",
       " 'shakespeare-macbeth.txt',\n",
       " 'whitman-leaves.txt']"
      ]
     },
     "execution_count": 43,
     "metadata": {},
     "output_type": "execute_result"
    }
   ],
   "source": [
    "nltk.corpus.gutenberg.fileids()"
   ]
  },
  {
   "cell_type": "code",
   "execution_count": 67,
   "id": "ddd4e1aa-ad2d-4889-8bb4-e117bf4a78c7",
   "metadata": {
    "tags": []
   },
   "outputs": [
    {
     "name": "stdout",
     "output_type": "stream",
     "text": [
      "In the name of the African Union, I would like to greet the members of the General Assembly of the United Nations, and I hope that this meeting will be among the most historic in the history of the world.\n",
      "In the name of the General Assembly at its sixtyfourth session, presided over by Libya, of the African Union, of one thousand traditional African kingdoms [trans.] and in my own name, I would like to take this opportunity, as President of the African Union, to congratulate our son Obama because he is attending the General Assembly, and we welcome him as his country is hosting this meeting.\n",
      "This session is taking place in the midst of so many challenges facing us, and the whole world should come together and unite its efforts to defeat the challenges that are our principal common enemy — those of climate change and international crises such as the capitalist economic decline, the food and water crises, desertification, terrorism, immigration, piracy, man-made and natural epidemics and nuclear proliferation. Perhaps influenza H1N1 was a virus created in a laboratory that got out of control, originally being meant as a military weapon. Such challenges also include hypocrisy, poverty, fear, materialism and immorality.\n",
      "As is known, the United Nations was founded by three or four countries against Germany at the time. The United Nations was formed by the nations that joined together against Germany in the Second World War. Those countries formed a body called the Security Council, made its own countries permanent members and granted them the power of veto.\n",
      "We were not present at that time. The United Nations was shaped in line with those three countries and wanted us to step into shoes originally designed against Germany. That is the real substance of the United Nations when it was founded over 60 years ago.\n",
      "That happened in the absence of some 165 countries, at a ratio of one to eight; that is, one was present and eight were absent. They created the Charter, of which I have a copy. If one reads the Charter of the United Nations, one finds that the Preamble of the Charter differs from its Articles. How did it come into existence? All those who attended the San Francisco Conference in 1945 participated in creating the Preamble, but they left the Articles and internal rules of procedures of the so-called Security Council to experts, specialists and interested countries, which were those countries that had established the Security Council and had united against Germany.\n",
      "The Preamble is very appealing, and no one objects to it, but all the provisions that follow it completely contradict the Preamble. We reject such provisions, and we will never uphold them; they ended with the Second World War. The Preamble says that all nations, small or large, are equal. Are we equal when it comes to the permanent seats? No, we are not equal.\n",
      "The Preamble states in writing that all nations are equal whether they are small or large. Do we have the right of veto? Are we equal? The Preamble says that we have equal rights, whether we are large or small.\n",
      "That is what is stated and what we agreed in the Preamble. So the veto contradicts the Charter. The permanent seats contradict the Charter. We neither accept nor recognize the veto.\n",
      "The Preamble of the Charter states that armed force shall not be used, save in the common interest. That is the Preamble that we agreed to and signed, and we joined the United Nations because we wanted the Charter to reflect that. It says that armed force shall only be used in the common interest of all nations, but what has happened since then? Sixty-five wars have broken out since the establishment of the United Nations and the Security Council — 65 since their creation, with millions more victims than in the Second World War. Are those wars, and the aggression and force that were used in those 65 wars, in the common interest of us all? No, they were in the interest of one or three or four countries, but not of all nations.\n",
      "We will talk about whether those wars were in the interest of one country or of all nations. That flagrantly contradicts the Charter of the United Nations that we signed, and unless we act in accordance with the Charter of the United Nations to which we agreed, we will reject it and not be afraid not to speak diplomatically to anyone. Now we are talking about the future of the United Nations. There should be no hypocrisy or diplomacy because it concerns the important and vital issue of the future of the world. It was hypocrisy that brought about the 65 wars since the establishment of the United Nations.\n",
      "The Preamble also states that if armed force is used, it must be a United Nations force — thus, military intervention by the United Nations, with the joint agreement of the United Nations, not one or two or three countries using armed force. The entire United Nations will decide to go to war to maintain international peace and security. Since the establishment of the United Nations in 1945, if there is an act of aggression by one country against another, the entire United Nations should deter and stop that act.\n",
      "If a country, Libya for instance, were to exhibit aggression against France, then the entire Organization would respond because France is a sovereign State Member of the United Nations and we all share the collective responsibility to protect the sovereignty of all nations. However, 65 aggressive wars have taken place without any United Nations action to prevent them. Eight other massive, fierce wars, whose victims number some 2 million, have been waged by Member States that enjoy veto powers. Those countries that would have us believe they seek to maintain the sovereignty and independence of peoples actually use aggressive force against peoples. While we would like to believe that these countries want to work for peace and security in the world and protect peoples, they have instead resorted to aggressive wars and hostile behaviour. Enjoying the veto they granted themselves as permanent members of the Security Council, they have initiated wars that have claimed millions of victims.\n",
      "The principle of non-interference in the internal affairs of States is enshrined in the Charter of the United Nations. No country, therefore, has the right to interfere in the affairs of any Government, be it democratic or dictatorial, socialist or capitalist, reactionary or progressive. This is the responsibility of each society; it is an internal matter for the people of the country concerned. The senators of Rome once appointed their leader, Julius Caesar, as dictator because it was good for Rome at that time. No one can say of Rome at that time that it gave Caesar the veto. The veto is not mentioned in the Charter.\n",
      "We joined the United Nations because we thought we were equals, only to find that one country can object to all the decisions we make. Who gave the permanent members their status in the Security Council? Four of them granted this status to themselves. The only country that we in this Assembly elected to permanent member status in the Security Council is China. This was done democratically, but the other seats were imposed upon us undemocratically through a dictatorial procedure carried out against our will, and we should not accept it.\n",
      "The Security Council reform we need is not an increase in the number of members, which would only make things worse. To use a common expression, if you add more water, you get more mud. It would add insult to injury. It would make things worse simply by adding more large countries to those that already enjoy membership of the Council. It would merely perpetuate the proliferation of super-Powers. We therefore reject the addition of any more permanent seats. The solution is not to have more permanent seats, which would be very dangerous. Adding more super-Powers would crush the peoples of small, vulnerable and third world countries, which are coming together in what has been called the Group of 100 — 100 small countries banding together in a forum that one member has called the Forum of Small States. These countries would be crushed by superPowers were additional large countries to be granted membership in the Security Council. This door must be closed; we reject it strongly and categorically.\n",
      "Adding more seats to the Security Council would increase poverty, injustice and tension at the world level, as well as great competition between certain countries such as Italy, Germany, Indonesia, India, Pakistan, the Philippines, Japan, Brazil, Nigeria, Argentina, Algeria, Libya, Egypt, the Democratic Republic of the Congo, South Africa, Tanzania, Turkey, Iran, Greece and Ukraine. All these countries would seek a seat on the Security Council, making its membership almost as large as that of the General Assembly and resulting in an impractical competition.\n",
      "What solution can there be? The solution is for the General Assembly to adopt a binding resolution under the leadership of Mr. Treki based on the majority will of Assembly members and taking into account the considerations of no other body. The solution is to close Security Council membership to the admission of further States. This item is on the agenda of the General Assembly during the present session presided over by Mr. Treki. Membership through unions and the transference of mandates should supersede other proposals. We should focus on the achievement of democracy based on the equality of Member States. There should be equality among Member States and the powers and mandates of the Security Council should be transferred to the General Assembly.\n",
      "Membership should be for unions, not for States. Increasing the number of States Members would give the right to allcountries to a seat, in accordance with the spirit of the Preamble of the Charter. No country could deny a seat in the Council to Italy, for instance, if a seat were given to Germany. For the sake of argument, Italy might say that Germany was an aggressive country and was defeated in the Second World War. If we gave India a seat, Pakistan would say that it, too, is a nuclear country and deserves a seat, and those two countries are at war. This would be a dangerous situation. If we gave a seat to Japan, then we should have to give one to Indonesia, the largest Muslim country in the world. Then Turkey, Iran and Ukraine would make the same claim. What could we say to Argentina or Brazil? Libya deserves a seat for its efforts in the service of world security by discarding its weapons of mass destruction programme.\n",
      "Then South Africa, Tanzania and Ukraine would demand the same. All of these countries are important. The door to Security Council membership should be closed. This approach is a falsehood, a trick that has been exposed. If we want to reform the United Nations, bringing in more super-Powers is not the way. The solution is to foster democracy at the level of the general congress of the world, the General Assembly, to which the powers of the Security Council should be transferred. The Security Council would become merely an instrument for implementing the decisions taken by the General Assembly, which would be the parliament, the legislative assembly, of the world.\n",
      "This Assembly is our democratic forum and the Security Council should be responsible before it; we should not accept the current situation. These are the legislators of the Members of the United Nations, and their resolutions should be binding. It is said that the General Assembly should do whatever the Security Council recommends. On the contrary, the Security Council should do whatever the General Assembly decides. This is the United Nations, the Assembly that includes 192 countries. It is not the Security Council, which includes only 15 of the Member States. How can we be happy about global peace and security if the whole world is controlled by only five countries?\n",
      "We are 192 nations and countries, and we are like Speakers’ Corner in London’s Hyde Park. We just speak and nobody implements our decisions. We are mere decoration, without any real substance. We are Speakers’ Corner, no more, no less. We just make speeches and then disappear. This is who you are right now. Once the Security Council becomes only an executive body for resolutions adopted by the General Assembly, there will be no competition for membership of the Council. Once the Security Council becomes a tool to implement General Assembly resolutions, there will be no need for any competition. The Security Council should, quite simply, represent all nations. In accordance with the proposal submitted to the General Assembly, there would be permanent seats on the Security Council for all unions and groups of countries. The 27 countries of the European Union should have a permanent seat on the Security Council. The countries of the African Union should have a permanent seat on the Security Council.\n",
      "The Latin American and ASEAN countries should have permanent seats. The Russian Federation and the United States of America are already permanent members of the Security Council. The Southern African Development Community (SADC), once it is fully established, should have a permanent seat. The 22 countries of the Arab League should have a permanent seat. The 57 countries of the Islamic Conference should have a permanent seat. The 118 countries of the Non-Aligned Movement should have a permanent seat. Then there is the G-100; perhaps the small countries should also have a permanent seat. Countries not included in the unions that I have mentioned could perhaps be assigned a permanent seat, to be occupied by them in rotation every six or twelve months.\n",
      "I am thinking of countries like Japan and Australia that are outside such organizations as ASEAN or like the Russian Federation that is not a member of the European or Latin American or African unions. This would be a solution for them if the General Assembly votes in favour of it. The issue is a vitally important one. As has already been mentioned, the General Assembly is the Congress and Parliament of the world, the leader of the world. We are the nations, and anyone outside this General Assembly will not be recognized. The President of the Assembly, Mr. Ali Abdussalam Treki, and Secretary-General Ban Ki-moon will produce the legal draft and set up the necessary committees to submit this proposal to a vote: that from now on, the Security Council will be made up of unions of nations.\n",
      "In this way, we will have justice and democracy, and we will no longer have a Security Council consisting of countries which have been chosen because they have nuclear weapons, large economies or advanced technology. That is terrorism. We cannot allow the Security Council to be run by super-Powers; that is terrorism in and of itself. If we want a world that is united, safe and peaceful, this is what we should do. If we want to remain in a world at war, that is up to you.\n",
      "We will continue to have conflict and to fight until doomsday or the end of the world. All Security Council members should have the right to exercise the veto, or else we should eliminate the whole concept of the veto with this new formation of the Council. This would be a real Security Council. According to the new proposals submitted to the General Assembly, it will be an executive council under the control of the General Assembly, which will have the real power and make all the rules. In this way, all countries will be on an equal footing in the Security Council just as they are in the General Assembly. In the General Assembly we are all treated equally when it comes to membership and voting. It should be the same in the Security Council.\n",
      "Currently, one country has a veto; another country does not have a veto; one country has a permanent seat; another country does not have a permanent seat. We should not accept this, nor should we accept any resolution adopted by the Security Council in its current composition. We were under trusteeship; we were colonized; and now we are independent. We are here today to decide the future of the world in a democratic way that will maintain the peace and security of all nations, large and small, as equals. Otherwise, it is terrorism, for terrorism is not just Al-Qaida but can also take other forms. We should be guided by the majority of the votes in the General Assembly alone. If the General Assembly takes a decision by voting, then its wishes should be obeyed and its decision should be enforced. No one is above the General Assembly; anyone who says he is above the Assembly should leave the United Nations and be on his own. Democracy is not for the rich or the most powerful or for those who practise terrorism. All nations should be and should be seen to be on an equal footing.\n",
      "At present, the Security Council is security feudalism, political feudalism for those with permanent seats, protected by them and used against us. It should be called, not the Security Council, but the Terror Council. In our political life, if they need to use the Security Council against us, they turn to the Security Council. If they have no need to use it against us, they ignore the Security Council. If they have an interest to promote, an axe to grind, they respect and glorify the Charter of the United Nations; they turn to Chapter VII of the Charter and use it against poor nations. If, however, they wished to violate the Charter, they would ignore it as if it did not exist at all. If the veto of the permanent members of the Security Council is given to those who have the power, this is injustice and terrorism and should not be toloerated by us.\n",
      "We should not live in the shadow of this injustice and terror. Super-Powers have complicated global interests, and they use the veto to protect those interests. For example, in the Security Council, they use the power of the United Nations to protect their interests and to terrorize and intimidate the Third World, causing it to live under the shadow of terror. From the beginning, since it was established in 1945, the Security Council has failed to provide security. On the contrary, it has provided terror and sanctions. It is only used against us. For this reason, we will no longer be committed to implementing Security Council resolutions after this speech, which marks the 40th anniversary.\n",
      "Sixty-five wars have broken out: either fighting among small countries or wars of aggression waged against us by super-Powers. The Security Council, in clear violation of the Charter of the United Nations, failed to take action to stop these wars or acts of aggressions against small nations and peoples. The General Assembly will vote on a number of historic proposals. Either we act as one or we will fragment. If each nation were to have its own version of the General Assembly, the Security Council and the various instruments and each were to have an equal footing, the Powers that currently fill the permanent seats would be confinded to use of their own soverign bodies, whether there be three or four of them, and would have to exercise their rights against themselves. This is of no concern to us.\n",
      "If they want to keep their permanent seats, that is fine; permanent seats will be of no concern to us. We shall never submit to their control or to their exercise of the veto that was given to them. We are not so foolish as to give the right of veto to the super-Powers to use so they can treat us as second-class citizens and as outcast nations. It is not we who decided that those countries are the super-Powers and respected nations with the power to act on behalf of 192 countries. You should be fully aware that we are ignoring the Security Council resolutions because those resolutions are used solely against us and not against the super-Powers which have the permanent seats and the right of veto. Those Powers never use any resolutions against themselves.\n",
      "They are, however, used against us. Such use has turned the United Nations into a travesty of itself and has generated wars and violations of the sovereignty of independent States. It has led to war crimes and genocides. All of this is in violation of the Charter of the United Nations. Since no one pays attention to the Security Council of the United Nations, each country and community has established its own security council, and the Security Council here has become isolated. The African Union has already established its own Peace and Security Council, the European Union has already established a security council, and Asian countries have already established their own security council. Soon, Latin America will have its own Security Counci,l as will the 120 non-aligned nations.\n",
      "This means that we have already lost confidence in the United Nations Security Council, which has not provided us with security, and that is why we now are creating new regional security councils. We are not committed to obeying the rules or the resolutions of the United Nations Security Council in its present form because it is undemocratic, dictatorial and unjust. No one can force us to join the Security Council or to obey or comply with resolutions or orders given by the Security Council in its present composition. Furthermore, there is no respect for the United Nations and no regard for the General Assembly, which is actually the true United Nations, but whose resolutions are non-binding. The decisions of the International Court of Justice, the international judicial body, take aim only at small countries and Third World nations. Powerful countries escape the notice of the Court. Or, if judicial decisions are taken against these powerful countries, they are not enforced.\n",
      "The International Atomic Energy Agency (IAEA) is an important agency within the United Nations. Powerful countries, however, are not accountable to it or under its jurisdiction. We have discovered that the IAEA is used only against us. We are told that it is an international organization, but, if that is the case, then all the countries of the world should be under its jurisdiction. If it is not truly international, then right after this speech we should no longer accept it and should close it down. Mr. Treki, in his capacity as President of the General Assembly, should talk to the Director General of the IAEA, Mr. ElBaradei, and should ask him if he is prepared to verify nuclear energy storage in all countries and inspect all suspected increases. If he says yes, then we accept the Agency’s jurisdiction.\n",
      "But if he says that he cannot go into certain countries that have nuclear power and that he does not have any jurisdiction over them, then we should close the Agency down and not submit to its jurisdiction. For your information, I called Mr. ElBaradei when we had the problem of the Libyan nuclear bomb. I called Mr. ElBaradei and asked him if the agreements by the super-Powers to reduce nuclear supplies were subject to Agency control and under inspection, and whether he was aware of any increases in their activity. He told me that he was not in a position to ask the super-Powers to be inspected. So, is the Agency only inspecting us? If so, it does not qualify as an international organization since it is selective, just like the Security Council and the International Court of Justice. This is not equitable nor is it the United Nations. We totally reject this situation.\n",
      "Regarding Africa, Mr. President, whether the United Nations is reformed or not, and even before a vote is taken on any proposals of a historic nature, Africa should be given a permanent seat on the Security Council now, having already waited too long. Leaving aside United Nations reform, we can certainly say that Africa was colonized, isolated and persecuted and its rights usurped. Its people were enslaved and treated like animals, and its territory was colonized and placed under trusteeship. The countries of the African Union deserve a permanent seat. This is a debt from the past that has to be paid and has nothing to do with United Nations reform. It is a priority matter and is high on the agenda of the General Assembly. No one can say that the African Union does not deserve a permanent seat. Who can argue with this proposal?\n",
      "I challenge anyone to make a case against it. Where is the proof that the African Union or the African continent does not deserve a permanent seat? No one can possibly deny this. Another matter that should be voted on in the General Assembly is that of compensation for countries that were colonized, so as to prevent the colonization of a continent, the usurpation of its rights and the pillaging of its wealth from happening again. Why are Africans going to Europe? Why are Asians going to Europe? Why are Latin Americans going to Europe? It is because Europe colonized those peoples and stole the material and human resources of Africa, Asia and Latin America — the oil, minerals, uranium, gold and diamonds, the fruit, vegetables and livestock and the people — and used them.\n",
      "Now, new generations of Asians, Latin Americans and Africans are seeking to reclaim that stolen wealth, as they have the right to do. At the Libyan border, I recently stopped 1,000 African migrants headed for Europe. I asked them why they were going there. They told me it was to take back their stolen wealth — that they would not be leaving otherwise. Who can restore the wealth that was taken from us? If you decide to restore all of this wealth, there will be no more immigration from the Philippines, Latin America, Mauritius and India. Let us have the wealth that was stolen from us. Africa deserves $777 trillion in compensation from the countries that colonized it. Africans will demand that amount, and if you do not give it to them, they will go to where you have taken those trillions of dollars. They have the right to do so.\n",
      "They have to follow that money and to bring it back. Why is there no Libyan immigration to Italy, even though Libya is so close by? Italy owed compensation to the Libyan people. It accepted that fact and signed an agreement with Libya, which was adopted by both the Italian and Libyan Parliaments. Italy admitted that its colonization of Libya was wrong and should never be repeated, and it promised not to attack the Libyan people by land, air or sea. Italy also agreed to provide Libya with $250 million a year in compensation over the next 20 years and to build a hospital for Libyans maimed as a result of the mines planted in Libyan territory during the Second World War.\n",
      "Italy apologized and promised that it would never again occupy the territory of another country. Italy, which was a kingdom during the Fascist regime and has made rich contributions to civilization, should be commended for this achievement, together with Prime Minister Berlusconi and his predecessor, who made their own contributions in that regard. Why is the Third World demanding compensation? So that there will be no more colonization — so that large and powerful countries will not colonize, knowing that they will have to pay compensation. Colonization should be punished. The countries that harmed other peoples during the colonial era should pay compensation for the damage and suffering inflicted under their colonial rule. There is another point that I would like to make. However, before doing so — and addressing a somewhat sensitive issue — I should like to make an aside.\n",
      "We Africans are happy and proud indeed that a son of Africa is now President of the United States of America. That is a historic event. Now, in a country where blacks once could not mingle with whites, in cafés or restaurants, or sit next to them on a bus, the American people have elected as their President a young black man, Mr. Obama, of Kenyan heritage. That is a wonderful thing, and we are proud. It marks the beginning of a change. However, as far as I am concerned, Obama is a temporary relief for the next four or eight years. I am afraid that we may then go back to square one. No one can guarantee how America will be governed after Obama. We would be content if Obama could remain President of the United States of America for ever.\n",
      "The statement that he just made shows that he is completely different from any American President that we have seen. American Presidents used to threaten us with all manner of weapons, saying that they would send us Desert Storm, Grapes of Wrath, Rolling Thunder and poisonous roses for Libyan children. That was their approach. American Presidents used to threaten us with operations such as Rolling Thunder, sent to Viet Nam; Desert Storm, sent to Iraq; Musketeer, sent to Egypt in 1956, even though America opposed it; and the poisonous roses visited upon Libyan children by Reagan. Can you imagine? One would have thought that Presidents of a large country with a permanent seat on the Security Council and the right of veto would have protected us and sent us peace. And what did we get instead? Laser-guided bombs carried to us on F-111 aircraft. This was their approach: we will lead the world, whether you like it or not, and will punish anyone who opposes us. What our son Obama said today is completely different. He made a serious appeal for nuclear disarmament, which we applaud. He also said that America alone could not solve the problems facing us and that the entire world should come together to do so. He said that we must do more than we are doing now, which is making speeches.\n",
      "We agree with that and applaud it. He said that we had come to the United Nations to talk against one another. It is true that when we come here, we should communicate with one another on an equal footing. And he said that democracy should not be imposed from outside. Until recently, American Presidents have said that democracy should be imposed on Iraq and other countries. He said that this was an internal affair. He spoke truly when he said that democracy cannot be imposed from outside. So we have to be cautious. Before I make these sensitive remarks I note that the whole world has so many polarities. Listen: should we have a world of so many polarities? Can we not have nations on an equal footing? Let us have an answer. Does anyone have an answer as to whether it is better to have a world of so many polarities? Why can we not have equal standing? Should we have patriarchs? Should we have popes? Should we have gods? Why should we have a world of so many polarities? We reject such a world and call for a world where big and small are equal.\n",
      "The other sensitive point is the Headquarters of the United Nations. Can I have your attention, please? All of you came across the Atlantic Ocean, the Pacific Ocean, crossing the Asian continent or the African continent to reach this place. Why? Is this Jerusalem? Is this the Vatican? Is this Mecca? All of you are tired, have jet lag, have sleepless nights. You are very tired, very low, physically. Somebody just arrived now, flying 20 hours. Then we want him to make a speech and talk about this. All of you are asleep, all of you are tired. It is clear that all of you are lacking energy because of having to make a long journey. Why do we do that? Some of our countries are in nighttime and people are asleep. Now you should be asleep, because your biological clock, your biological mind is accustomed to be asleep at this time. I wake up at 4 o’clock New York time, before dawn, because in Libya it is 11 in the morning. When I wake up at 11 o’clock it is supposed to be daytime; at 4 o’clock I am awake. Why? Think about it.\n",
      "If this was decided in 1945, should we still retain it? Why can we not think about a place that is in the middle, that is comfortable? Another important point is that America, the host country, bears the expenses and looks after the Headquarters and diplomatic missions and looks after the peace and security of the heads of State who come here. They are very strict; they spend a lot of money, New York and all of America being very tight. I want to relieve America of this hardship. We should thank America; we say to America, thank you for all the trouble that you have taken on yourself. We say thank you to America. We want to help reassure America and New York and keep them calm.\n",
      "They should not have the responsibility of looking after security. Perhaps some day a terrorist could cause an explosion or bomb a president. This place is targeted by Al-Qaida, this very building. Why was it not hit on 11 September? It was beyond their power. The next target would be this place. I am not saying this in an offhand manner. We have tens of members of Al-Qaida detained in Libyan prisons. Their confessions are very scary. That makes America live under tension. One never knows what will happen. Perhaps America or this place will be targeted again by a rocket. Perhaps tens of heads of State will die. We want to relieve America from this worry. We shall take the place to where it is not targeted. Now after 50 years United Nations Headquarters should be taken to another part of the hemisphere. After 50 years in the western hemisphere, for the next 50 years it should be in the eastern hemisphere or in the middle hemisphere, by rotation.\n",
      "Now, with 64 years we have an extra 14 years over the 50 that Headquarters should have been moved to somewhere else. This is not an insult to America; it is a service to America. We should thank America. This was possible in 1945, but we should not accept it now. Of course this should be put to the vote in the General Assembly — only in the Assembly, because in section 23 of the Headquarters Agreement it says that the United Nations Headquarters can be moved to another location only by a resolution of the General Assembly. If 51 per cent of the Assembly approve relocation of Headquarters, then it can be moved. America has the right to make security tight because it is targeted by terrorists and by Al-Qaida. America has the right to take all security measures; we are not blaming America for that. However, we do not tolerate these measures.\n",
      "We do not have to come to New York and be subjected to all these measures. One president told me that he was told that his co-pilot should not come to America because there are restrictions. He asked how he could cross the Atlantic without a co-pilot. Why? He does not have to come here. Another president complained that his honour guard could not come because there was some misunderstanding regarding his name when it came to granting a visa. Another president said his own doctor could not get a visa and could not come to America. The security measures are very strict. If a country has any problem with America, they will set up restrictions on the movements of member delegations, as if one is in Guantanamo. Is this a Member State of the United Nations, or is it a prisoner in the Guantanamo camp that cannot be allowed free movement? This is what is submitted to the General Assembly for a vote — moving the Headquarters. If 51 per cent agree, then we come to the second vote: to the middle of the globe, or to the eastern part. If we say that we must move the Headquarters to the middle of the hemisphere, why do we not move to Sirte or Vienna?\n",
      "One can come even without a visa. Once you come as a president, Libya is a secure country. We are not going to restrict you to 100 or 500 metres. Libya has no hostile actions against anybody. I think the same holds true of Vienna. If the vote says we should move Headquarters to the eastern part, then it will be Delhi or Beijing, the capital of China or the capital of India. That is logical, my brothers. I do not think there will be any objection to that. Then you will thank me for this proposal, for eliminating the suffering and the trouble of flying 14, 15 or 20 hours to come here. No one can blame America or say that America will reduce its contributions to the United Nations. No one should have that bad thought. America, I am sure, is committed to its international obligations. America will not be angry; it will thank you for alleviating its hardship, for taking on all that hardship and all the restrictions, even though this place is targeted by terrorists. We come now to the issues that will be considered by the General Assembly.\n",
      "We are about to put the United Nations on trial; the old organization will be finished and a new one will emerge. This is not a normal gathering. Even son Obama said that this is not a normal gathering. It is a historic meeting. The wars that took place after the establishment of the United Nations — why did they occur? Where was the Security Council, where was the Charter, where was the United Nations? There should be investigations and judicial intervention. Why have there been massacres? We can start with the Korean War because it took place after the establishment of the United Nations. How did a war break out and cause millions of victims? Nuclear weapons could have been used in that war. Those who are responsible for causing the war should be tried and should pay compensation and damages. Then we come to the Suez Canal war of 1956. That file should be opened wide. Three countries with permanent seats on the Security Council and with the right of veto in the Council attacked a member State of this General Assembly.\n",
      "A country that was a sovereign State — Egypt — was attacked, its army was destroyed, thousands of Egyptians were killed and many Egyptian towns and entities were destroyed, all because Egypt wanted to nationalize the Suez Canal. How could such a thing have happened during the era of the United Nations and its Charter? How is it possible to guarantee that such a thing will not be repeated unless we make amends for past wrongs? Those were dangerous events and the Suez Canal and Korean war files should be re-opened. Next we come to the Viet Nam war. There were 3 million victims of that war. During 12 days, more bombs were dropped than during four years of the Second World War. It was a fiercer war, and it took place after the establishment of the United Nations and after we had decided that there would be no more wars.\n",
      "The future of humankind is at stake. We cannot stay silent. How can we feel safe? How can we be complacent? This is the future of the world, and we who are in the General Assembly of the United Nations must make sure that such wars are not repeated in the future. Then Panama was attacked, even though it was an independent member State of the General Assembly. Four thousand people were killed, and the President of that country was taken prisoner and put in prison. Noriega should be released — we should open that file. How can we entitle a country that is a United Nations Member State to wage war against another country and capture its president, treat him as a criminal and put him in prison? Who would accept that? It could be repeated. We should not stay quiet. We should have an investigation. Any one of us Member States could face the same situation, especially if such aggression is by a Member State with a permanent seat on the Security Council and with the responsibility to maintain peace and security worldwide.\n",
      "Then there was the war in Grenada. That country was invaded even though it was a Member State. It was attacked by 5,000 war ships, 7,000 troops and dozens of military aircraft, and it is the smallest country in the world. This occurred after the establishment of the United Nations and of the Security Council and its veto. And the President of Grenada, Mr. Maurice Bishop, was assassinated. How could that have happened with impunity? It is a tragedy. How can we guarantee that the United Nations is good or not, that a certain country is good or not? Can we be safe or happy about our future or not? Can we trust the Security Council or not? Can we trust the United Nations or not? We must look into and investigate the bombing of Somalia. Somalia is a United Nations Member State. It is an independent country under the rule of Aidid. We want an investigation. Why did that happen? Who allowed it to happen? Who gave the green light for that country to be attacked? Then there is the former Yugoslavia.\n",
      "No country was as peaceful as Yugoslavia, constructed step by step and piece by piece after being destroyed by Hitler. We destroyed it, as if we were doing the same job as Hitler. Tito built that peaceful country step by step and brick by brick and then we arrived and broke it apart for imperialistic, personal interests. How can we be complacent about that? Why can we not be satisfied? If a peaceful country like Yugoslavia faced such a tragedy, the General Assembly should have an investigation and should decide who should be tried before the International Criminal Court. Then we have the war in Iraq — the mother of all evils. The United Nations should also investigate that. The General Assembly, presided over by Mr. Treki, should investigate that. The invasion of Iraq was a violation of the United Nations Charter. It was done without any justification by super-Powers with permanent seats on the Security Council. Iraq is an independent country and a member State of the General Assembly. How could those countries attack Iraq? As provided for in the Charter, the United Nations should have intervened and stopped the attack. We spoke in the General Assembly and urged it to use the Charter to stop that attack. We were against the invasion of Kuwait, and the Arab countries fought Iraq alongside foreign countries in the name of the United Nations Charter.\n",
      "In the first instance, the Charter was respected, The second time when we wanted to use the Charter to stop the war against Iraq, no one used it and that document was ignored. Why did that occur? Mr. Treki and the General Assembly should investigate to determine whether there was any reason at all to invade Iraq. Because the reasons for that attack remain mysterious and ambiguous, and we might face the same destiny. Why was Iraq invaded? The invasion itself was a serious violation of the United Nations Charter, and it was wrong. There was also a total massacre or genocide. More than 1.5 million Iraqis were killed. We want to bring the Iraqi file before the International Criminal Court (ICC), and we want those who committed mass murder against the Iraqi people to be tried. It is easy for Charles Taylor to be tried, or for Bashir to be tried, or for Noriega to be tried. That is an easy job. Yes, but what about those who have committed mass murder against the Iraqis? They cannot be tried? They cannot go before the ICC?\n",
      "If the Court is unable to accommodate us, then we should not accept it. Either it is meant for all of us, large or small, or we should not accept it and should reject it. Anyone who commits a war crime can be tried, but we are not livestock or animals like those that are slaughtered for the Eid. We have the right to live, and we are ready to fight and to defend ourselves. We have the right to live in dignity, under the sun and on earth; they have already tested us and we have withstood the test. There are other things as well. Why is it that Iraqi prisoners of war can be sentenced to death? When Iraq was invaded and the President of Iraq was taken he was a prisoner of war. He should not have been tried; he should not have been hanged. When the war was over, he should have been released. We want to know why a prisoner of war should have been tried.\n",
      "Who sentenced the President of Iraq to death? Is there an answer to that question? We know the identity of the judge who tried him. As to who tied the noose around the President’s neck on the day of sacrifice and hanged him, those people wore masks. How could this have happened in a civilized world? These were prisoners of war of civilized countries under international law. How could Government ministers and a head of State be sentenced to death and hanged? Were those who tried them lawyers or members of a judicial system? Do you know what people are saying? They are saying that the faces behind the masks were those of the President of the United States and the Prime Minister of the United Kingdom and that it was they who put the President of Iraq to death. Why do the executioners not unmask their faces? Why do we not know their ranks? Why do we not know whether they were officers, judges, soldiers or doctors? How does it come about that the President of a State Member of the United Nations was sentenced to death and killed? We do not know the identity of the executioners.\n",
      "The United Nations is duty-bound to answer these questions: who carried out the death sentence? They must have legal status and official responsibilities; we should know their identities and we should know about the presence of a physician and the nature of all the legal proceedings. That would be true for an ordinary citizen, let alone for the President of a State Member of the United Nations who was put to death in that manner. My third point on the Iraq war relates to Abu Ghraib. This was a disgrace to humankind. I know that the United States authorities will investigate this scandal, but the United Nations must not ignore it either. The General Assembly should investigate this matter. Prisoners of war held in Abu Ghraib prison were torturers; dogs were set on them; men were raped.\n",
      "This is unprecedented in the history of war. It was sodomy, and it was an unprecedented sin, never before committed by past aggressors or invaders. Prisoners of war are soldiers, but these were raped in prison by a State, a permanent member of the Security Council. This goes against civilization and humankind. We must not keep silent; we must know the facts. Even today, a quarter of a million Iraqi prisoners, men and women alike, remain in Abu Ghraib. They are being maltreated, persecuted and raped. There must be an investigation. Turning to the war in Afghanistan, this too must be investigated. Why are we against the Taliban? Why are we against Afghanistan? Who are the Taliban? If the Taliban want a religious State, that is fine.\n",
      "Think of the Vatican. Does the Vatican pose a threat to us? No. It is a religious, very peaceful State. If the Taliban want to create an Islamic Amirate, who says that this makes them an enemy? Is anyone claiming that Bin Laden is of the Taliban or that he is Afghan? Is Bin Laden of the Taliban? No; he is not of the Taliban and he is not Afghan. Were the terrorists who hit New York City of the Taliban? Were they from Afghanistan? They were neither Taliban nor Afghan. Then, what was the reason for the wars in Iraq and in Afghanistan? If I truly wanted to deceive my American and British friends, I would encourage them to send more troops and I would encourage them to persist in this bloodbath. But they will never succeed in Iraq or Afghanistan. Look what happened to them in Iraq, which is a desert. It is even worse in mountainous Afghanistan.\n",
      "If I wanted to deceive them I would tell them to continue the wars in Iraq and Afghanistan. But no, I want to save the citizens of the United States, the United Kingdom and other countries who are fighting in Iraq and Afghanistan. So I tell them: leave Afghanistan to the Afghans; leave Iraq to the Iraqis. If they want to fight each other, they are free to do so. America had its Civil War, and no one interfered in it. There were civil wars in Spain, China and countries all over the world — no place on Earth has been free of civil wars. Let there be a civil war in Iraq. If the Iraqis want to have a civil war and fight each other, that is fine. Who says that if the Taliban form a Government they would possess intercontinental missiles or the kind of aeroplanes that hit New York? Did those aeroplanes take off from Afghanistan or Iraq? No; they took off from American airports. So why is Afghanistan being struck? The terrorists were not Afghans or Taliban or Iraqis. Why are we silent? We must never be war devils: anyone who does not speak the truth is a silent devil. We are committed to international peace and security. We do not wish to scorn or ridicule humankind. We want to save humanity.\n",
      "As President of the General Assembly, Mr. Ali Treki should open an investigation of the assassinations file — in addition to the war files. Who killed Patrice Lumumba, and why? We merely want to record it in the annals of African history; we want to know how an African leader, a liberator, came to be assassinated. Who killed him? We want our sons to be able to read the history of how Patrice Lumumba, the hero of Congo’s liberation struggle, was assassinated. We want to know the facts, even 50 years on. That is one file that should be reopened. And who killed Secretary-General Hammarskjöld? Who fired on his aeroplane in 1961, and why? Then, there is the assassination of United States President Kennedy in 1963. We want to know who killed him and why. There was somebody called Lee Harvey Oswald, who was then killed by one Jack Ruby. Why did he kill him? Jack Ruby, an Israeli, killed Lee Harvey Oswald, who killed Kennedy. Why did this Israeli kill Kennedy’s killer? Then Jack Ruby, the killer of the killer of Kennedy, died in mysterious circumstances before he could be tried. We must open the files. The whole world knows that Kennedy wanted to investigate the Israeli Dimona nuclear reactor.\n",
      "This involves international peace and security and weapons of mass destrucion. That is why we should open this file. Then there is the assassination of Martin Luther King, the black reverend and human rights activist. His assassination was a plot, and we should know why he was killed and who killed him. Then Khalil Wazir, or Abu Jihad, a Palestinian, was attacked. He was living peacefully in Tunisia, a Member State, and that country’s sovereignty was not respected. We cannot keep silent. Even though submarines and ships were detected along the coast of Tunisia, where he was killed, no one was accused or tried. Abu Iyad was also killed, and we should know how he was killed. He was killed in ambiguous circumstances. In Operation Spring of Youth, Kamal Nasser, a poet, Kamal Adwan and Abu Youssef al-Najjar, three Palestinians, were killed in Lebanon, a country that is a free, sovereign State member of the General Assembly. They were attacked and killed while sleeping peacefully. We should know who killed them, and he should be tried so that those crimes against humanity are not repeated. We have already talked about the size of the force used in the invasion of Grenada — 7,000 troops, 15 battleships and dozens of bombers — and President Bishop was killed even though Grenada was a Member State. Those are crimes, and we cannot keep silent.\n",
      "Otherwise, we will look like sacrificial beasts. We are not animals. Year after year, we are attacked. We defend ourselves, our sons and our children, and we are not afraid. We have the right to live, and the Earth is not destined for violence, but for us all. We can never live on this Earth in such humiliation. So those are the wars. The last file is that of the massacres. In the Sabra and Shatila massacre, 3,000 people were killed. That area, under the protection of the occupying Israeli army, was the site of a huge and calamitous massacre in which 3,000 Palestinian men, women and children were killed. How can we keep quiet? Lebanon is a sovereign State; a member of the General Assembly was occupied, Sabra and Shatila were under Israeli control, and then the massacre took place. Then there was the 2008 massacre in Gaza. There were 1,000 women and 2,200 children among the victims killed in the massacre in Gaza in 2008. Sixty United Nations facilities and another 30 belonging to non-governmental organizations were damaged. Fifty clinics were destroyed. Forty doctors and nurses were killed while carrying out humanitarian activities. This took place in Gaza in December 2008. The perpetrators are still alive, and they should be tried by the International Criminal Court (ICC).\n",
      "Should we try only the underdogs, the weak and the poor of third-world countries, and not important and protected figures? Under international law, they should all face trial for the consequences of the crimes that they have committed. Otherwise, the role of the ICC will never be recognized. If the decisions of the ICC are not respected or implemented, if the General Assembly and the Security Council mean nothing, and if the International Atomic Energy Agency serves only certain countries and organizations, then what is the United Nations? It would mean that the United Nations is nothing and is insignificant. Where is it? There is no United Nations. Then, while piracy may be a phenomenon of the high seas, a form of terrorism, we talk about the piracy in Somalia. Somalis are not pirates. We are the pirates. We went there and usurped their economic zones, their fish and their wealth. Libya, India, Japan and America — any country in the world — we are all pirates. We all entered the territorial waters and economic zones of Somalia and stole.\n",
      "The Somalis are protecting their own fish, their sustenance. They have become pirates because they are defending their children’s food. Now, we seek to address that matter in the wrong way. Should we send warships to Somalia? We should send warships to the pirates who have attacked and seized the economic zones and wealth of the Somalis and the food of their children. I met the pirates, and I told them that I would negotiate an agreement between them and the international community that respects the 200-mile exclusive economic zone under the law of the sea, that protects all marine resources belonging to the Somali people, and that stops all countries from disposing of toxic waste along the Somali coast. In return, the Somalis would no longer attack ships. We will propose and draft such an international treaty and submit it to the General Assembly. That is the solution. The solution does not lie in sending more military ships to fight the Somalis. That is not the solution. We are addressing the phenomena of piracy and terrorism in the wrong way. Today there is swine flu.\n",
      "Perhaps tomorrow there will be fish flu, because sometimes we produce viruses by controlling them. It is a commercial business. Capitalist companies produce viruses so that they can generate and sell vaccinations. That is very shameful and poor ethics. Vaccinations and medicine should not be sold. In The Green Book, I maintain that medicines should not be sold or subject to commercialization. Medicines should be free of charge and vaccinations given free to children, but capitalist companies produce the viruses and vaccinations and want to make a profit. Why are they not free of charge? We should give them free of charge, and not sell them.\n",
      "The entire world should strive to protect our people, create and manufacture vaccinations and give them free to children and women, and not profit by them. All those items are on the agenda of the General Assembly, which has only to exercise that duty. The Ottawa Convention on Landmines forbids the production of landmines. That is wrong. Landmines are defensive weapons. If I place them along the border of my country and someone wants to invade me, they may be killed. That is all right, because they are invading me. The Convention should be reconsidered. I am not taking that defensive weapon to another country. The enemy is coming to me. On the Al-Qadhafi website, I call for that treaty to be modified or annulled. This treaty should be modified or annulled. I want to use anti-personnel mines to defend my home against invasion. Eliminate weapons of mass destruction, not landmines, which are defensive weapons. With regard to the Palestinian situation, the twoState solution is impossible; it is not practical. Currently, these two States completely overlap. Partition is doomed to failure.\n",
      "These two States are not neighbours; they are coextensive, in terms of both population and geography. A buffer zone cannot be created between the two States because there are half a million Israeli settlers in the West Bank and a million Arab Palestinians in the territory known as Israel. The solution is therefore a democratic State without religious fanaticism or ethnicity. The generation of Sharon and Arafat is over. We need a new generation, in which everyone can live in peace. Look at Palestinian and Israeli youth; they both want peace and democracy, and they want to live under one State. This conflict poisons the world. The White Book actually has the solution; I hold it here. The solution is Isratine. Arabs have no hostility or animosity towards Israel.\n",
      "We are cousins and of the same race. We want to live in peace. The refugees should go back. You are the ones who brought the Holocaust upon the Jews. You, not we, are the ones who burned them. We gave them refuge. We gave them safe haven during the Roman era and the Arab reign in Andalusia and during the rule of Hitler. You are the ones who poisoned them; you are the ones who annihilated them. We provided them with protection. You expelled them. Let us see the truth. We are not hostile; we are not enemies of the Jews. And one day the Jews will need the Arabs. At that point, Arabs will be the ones to give them protection, to save them, as we have done in the past. Look at what everybody else did to the Jews.\n",
      "Hitler is an example. You are the ones who hate the Jews, not us. In brief, Kashmir should be an independent State, neither Indian nor Pakistani. We must end that conflict. Kashmir should be a buffer State between India and Pakistan. With regard to Darfur, I truly hope that the assistance provided by international organizations can be used for development projects, for agriculture, for industry and for irrigation. You are the ones who made it a crisis; you put it on the altar; you wanted to sacrifice Darfur so that you could interfere in its internal affairs. You have turned the Hariri problem into a United Nations problem. You are selling Hariri’s corpse. You just want to settle scores with Syria.\n",
      "Lebanon is an independent State; it has laws, courts, a judiciary and police. At this stage, it is no longer the perpetrators that are being sought; the real wish is to settle scores with Syria, not ensure justice for Hariri. The cases of Khalil al-Wazir, Lumumba, Kennedy, and Hammarskjöld should also have been turned over to the United Nations, if the Hariri case merits such attention. The General Assembly is now under the presidency of Libya. This is our right. Libya hopes that you will assist in making the transition from a world fraught with crises and tension to a world in which humanity, peace and tolerance prevail. I will personally follow up on this issue with the General Assembly, President Treki and the Secretary-General. It is not our habit to compromise when it comes to the destiny of humanity and the struggles of the third world and the 100 small nations, which should live in peace always.\n",
      "\n"
     ]
    }
   ],
   "source": [
    "from nltk.corpus import PlaintextCorpusReader\n",
    "\n",
    "\n",
    "file_path = \"/Users/ana/Downloads/libyaspeech.txt\"\n",
    "\n",
    "try:\n",
    "    with open(file_path, 'r', encoding='utf-8') as file:\n",
    "        content = file.read()\n",
    "        print(content)\n",
    "except FileNotFoundError:\n",
    "    print(f\"File not found at path: {file_path}\")\n",
    "except Exception as e:\n",
    "    print(f\"An error occurred: {e}\")\n",
    "\n",
    "    \n",
    "    libwords = corpus.raw()"
   ]
  },
  {
   "cell_type": "code",
   "execution_count": 68,
   "id": "5dfc81e4",
   "metadata": {
    "tags": []
   },
   "outputs": [
    {
     "name": "stdout",
     "output_type": "stream",
     "text": [
      "Length of Muammar Gaddafi speech: 11697\n"
     ]
    }
   ],
   "source": [
    "#Corpus 2: Question1 : \n",
    "\n",
    "print(\"Length of Muammar Gaddafi speech:\", len(libwords))"
   ]
  },
  {
   "cell_type": "code",
   "execution_count": 69,
   "id": "fedfcad6",
   "metadata": {
    "tags": []
   },
   "outputs": [],
   "source": [
    "#Corpus 2: Question 2: \n",
    "\n",
    "def lexical_diversity(libwords):\n",
    "    return len(set(libwords)) / len(libwords)"
   ]
  },
  {
   "cell_type": "code",
   "execution_count": 70,
   "id": "13ac8b58",
   "metadata": {
    "tags": []
   },
   "outputs": [
    {
     "data": {
      "text/plain": [
       "0.16106694024108745"
      ]
     },
     "execution_count": 70,
     "metadata": {},
     "output_type": "execute_result"
    }
   ],
   "source": [
    "lexical_diversity(libwords)"
   ]
  },
  {
   "cell_type": "code",
   "execution_count": 82,
   "id": "2821627d",
   "metadata": {
    "tags": []
   },
   "outputs": [],
   "source": [
    "#Corpus 2: Question 3\n",
    "\n",
    "\n",
    "filtered_words = [w.lower() for w in libwords if w.isalpha()]\n",
    "\n",
    "\n",
    "fdist2 = FreqDist(filtered_words)\n"
   ]
  },
  {
   "cell_type": "code",
   "execution_count": 83,
   "id": "805ed6b5",
   "metadata": {
    "tags": []
   },
   "outputs": [
    {
     "data": {
      "text/plain": [
       "[('the', 753),\n",
       " ('and', 327),\n",
       " ('of', 322),\n",
       " ('to', 288),\n",
       " ('we', 229),\n",
       " ('that', 207),\n",
       " ('is', 187),\n",
       " ('a', 176),\n",
       " ('in', 165),\n",
       " ('be', 131)]"
      ]
     },
     "execution_count": 83,
     "metadata": {},
     "output_type": "execute_result"
    }
   ],
   "source": [
    "fdist2.most_common(10)"
   ]
  },
  {
   "cell_type": "code",
   "execution_count": 84,
   "id": "8c017286",
   "metadata": {
    "tags": []
   },
   "outputs": [
    {
     "name": "stdout",
     "output_type": "stream",
     "text": [
      "word1 the amount: 683\n",
      "word2 . amount: 322\n",
      "word3 , amount: 321\n",
      "word4 and amount: 287\n",
      "word5 of amount: 141\n",
      "word6 to amount: 184\n",
      "word7 that amount: 180\n",
      "word8 is amount: 174\n",
      "word9 a amount: 152\n",
      "word10 in amount: 131\n"
     ]
    }
   ],
   "source": [
    "print(\"word1 the amount:\",libwords.count(\"the\"))\n",
    "print(\"word2 . amount:\",libwords.count(\"and\"))\n",
    "print(\"word3 , amount:\",libwords.count(\"of\"))\n",
    "print(\"word4 and amount:\",libwords.count(\"to\"))\n",
    "print(\"word5 of amount:\",libwords.count(\"we\"))\n",
    "print(\"word6 to amount:\",libwords.count(\"that\"))\n",
    "print(\"word7 that amount:\",libwords.count(\"is\"))\n",
    "print(\"word8 is amount:\",libwords.count(\"a\"))\n",
    "print(\"word9 a amount:\",libwords.count(\"in\"))\n",
    "print(\"word10 in amount:\",libwords.count(\"be\"))\n"
   ]
  },
  {
   "cell_type": "code",
   "execution_count": 101,
   "id": "8977fb81",
   "metadata": {
    "tags": []
   },
   "outputs": [
    {
     "name": "stdout",
     "output_type": "stream",
     "text": [
      "Longest Words:\n",
      "Word: commercialization, Count: 1\n",
      "Word: undemocratically, Count: 1\n",
      "Word: misunderstanding, Count: 1\n",
      "Word: responsibilities, Count: 1\n",
      "Word: intercontinental, Count: 1\n",
      "Word: desertification, Count: 1\n",
      "Word: diplomatically, Count: 1\n",
      "Word: responsibility, Count: 4\n",
      "Word: responsibility, Count: 4\n",
      "Word: democratically, Count: 1\n"
     ]
    }
   ],
   "source": [
    "#Corpus 2, Question 4:\n",
    "\n",
    "\n",
    "freq_dist = FreqDist(filtered_words)  \n",
    "\n",
    "print(\"Longest Words:\")\n",
    "for word in longest_words[:10]:\n",
    "    count = freq_dist[word]\n",
    "    print(f\"Word: {word}, Count: {count}\")\n",
    "\n"
   ]
  },
  {
   "cell_type": "code",
   "execution_count": 87,
   "id": "281169a5",
   "metadata": {
    "tags": []
   },
   "outputs": [
    {
     "name": "stdout",
     "output_type": "stream",
     "text": [
      "Word count is: ['This', 'session', 'is', 'taking', 'place', 'in', 'the', 'midst', 'of', 'so', 'many', 'challenges', 'facing', 'us', ',', 'and', 'the', 'whole', 'world', 'should', 'come', 'together', 'and', 'unite', 'its', 'efforts', 'to', 'defeat', 'the', 'challenges', 'that', 'are', 'our', 'principal', 'common', 'enemy', 'â', '\\x80\\x94', 'those', 'of', 'climate', 'change', 'and', 'international', 'crises', 'such', 'as', 'the', 'capitalist', 'economic', 'decline', ',', 'the', 'food', 'and', 'water', 'crises', ',', 'desertification', ',', 'terrorism', ',', 'immigration', ',', 'piracy', ',', 'man', '-', 'made', 'and', 'natural', 'epidemics', 'and', 'nuclear', 'proliferation', '.']\n"
     ]
    },
    {
     "data": {
      "text/plain": [
       "76"
      ]
     },
     "execution_count": 87,
     "metadata": {},
     "output_type": "execute_result"
    }
   ],
   "source": [
    "\n",
    "#Corpus 2: Question 5:\n",
    "\n",
    "\n",
    "\n",
    "lib_sentence = gutenberg.sents(\"/Users/ana/downloads/libyaspeech.txt\")\n",
    "lib_sentence\n",
    "\n",
    "longest_len = max(len(s) for s in lib_sentence)\n",
    "lib_longest_sentence = [s for s in lib_sentence if len(s) == longest_len][0]\n",
    "print(\"Word count is:\", lib_longest_sentence)\n",
    "len(lib_longest_sentence)\n",
    "\n"
   ]
  },
  {
   "cell_type": "code",
   "execution_count": 89,
   "id": "781f3cb5",
   "metadata": {
    "tags": []
   },
   "outputs": [],
   "source": [
    "#Corpus 2: Question 6:\n",
    "\n",
    "\n",
    "from nltk.stem import PorterStemmer\n",
    "from nltk.tokenize import word_tokenize"
   ]
  },
  {
   "cell_type": "code",
   "execution_count": 90,
   "id": "b0b1c970",
   "metadata": {
    "tags": []
   },
   "outputs": [
    {
     "name": "stdout",
     "output_type": "stream",
     "text": [
      "['thi', 'session', 'is', 'take', 'place', 'in', 'the', 'midst', 'of', 'so', 'mani', 'challeng', 'face', 'us', ',', 'and', 'the', 'whole', 'world', 'should', 'come', 'togeth', 'and', 'unit', 'it', 'effort', 'to', 'defeat', 'the', 'challeng', 'that', 'are', 'our', 'princip', 'common', 'enemi', 'â', '\\x80\\x94', 'those', 'of', 'climat', 'chang', 'and', 'intern', 'crise', 'such', 'as', 'the', 'capitalist', 'econom', 'declin', ',', 'the', 'food', 'and', 'water', 'crise', ',', 'desertif', ',', 'terror', ',', 'immigr', ',', 'piraci', ',', 'man', '-', 'made', 'and', 'natur', 'epidem', 'and', 'nuclear', 'prolifer', '.']\n"
     ]
    }
   ],
   "source": [
    "stemmer=PorterStemmer()\n",
    "\n",
    "stemmed_sentence1= [stemmer.stem(word) for word in lib_longest_sentence]\n",
    "\n",
    "print(stemmed_sentence1)"
   ]
  },
  {
   "cell_type": "code",
   "execution_count": 91,
   "id": "30ccd4c4",
   "metadata": {
    "tags": []
   },
   "outputs": [],
   "source": [
    "#Corpus 3: Question 1:\n",
    "\n",
    "whipstar = reviews.words('whippingstar.txt')"
   ]
  },
  {
   "cell_type": "code",
   "execution_count": 92,
   "id": "8aff770e",
   "metadata": {
    "tags": []
   },
   "outputs": [
    {
     "data": {
      "text/plain": [
       "11911"
      ]
     },
     "execution_count": 92,
     "metadata": {},
     "output_type": "execute_result"
    }
   ],
   "source": [
    "len(whipstar)"
   ]
  },
  {
   "cell_type": "code",
   "execution_count": 93,
   "id": "a4b6358f",
   "metadata": {
    "tags": []
   },
   "outputs": [],
   "source": [
    "#Corpus 3: Question 2:\n",
    "\n",
    "def lexical_diversity(whipstar):\n",
    "    return len(set(whipstar)) / len(whipstar)"
   ]
  },
  {
   "cell_type": "code",
   "execution_count": 94,
   "id": "1ef5b958",
   "metadata": {
    "tags": []
   },
   "outputs": [
    {
     "data": {
      "text/plain": [
       "0.2030056250524725"
      ]
     },
     "execution_count": 94,
     "metadata": {},
     "output_type": "execute_result"
    }
   ],
   "source": [
    "lexical_diversity(whipstar)"
   ]
  },
  {
   "cell_type": "code",
   "execution_count": 107,
   "id": "5014d912",
   "metadata": {
    "tags": []
   },
   "outputs": [
    {
     "name": "stdout",
     "output_type": "stream",
     "text": [
      "[('the', 500), ('a', 234), ('of', 228), ('mckie', 187), ('to', 185), ('said', 166), ('it', 145), ('furuneo', 130), ('in', 126), ('s', 123)]\n"
     ]
    }
   ],
   "source": [
    "#Corpus 3: Question 3:\n",
    "\n",
    "filtered_word = [w.lower() for w in whipstar if w.isalpha()]\n",
    "fdist2 = FreqDist(filtered_word)\n",
    "\n",
    "\n",
    "top_10_words = fdist2.most_common(10)\n",
    "print(top_10_words)\n"
   ]
  },
  {
   "cell_type": "code",
   "execution_count": 108,
   "id": "f2ebf044",
   "metadata": {
    "tags": []
   },
   "outputs": [
    {
     "name": "stdout",
     "output_type": "stream",
     "text": [
      "all words with at least 10 characters): [('discontinuity', 18), ('Cordiality', 10), ('understand', 10), ('Taprisiots', 9), ('connectives', 9), ('transmitter', 8), ('communication', 7), ('temperature', 7), ('association', 6), ('understood', 4), ('government', 4), ('interpretation', 4), ('Communication', 4), ('interdependencies', 3), ('Extraordinary', 3), ('identified', 3), ('protection', 3), ('conversation', 3), ('resentment', 3), ('irritation', 3), ('acceptance', 3), ('disappearances', 3), ('difficulty', 3), ('perspiration', 3), ('flagellation', 3), ('Understand', 3), ('planguinity', 3), ('flagellations', 3), ('Connectives', 3), ('relationships', 2), ('sniggertrance', 2), ('understanding', 2), ('equivalent', 2), ('suppressed', 2), ('everything', 2), ('recognized', 2), ('mountainside', 2), ('disgruntled', 2), ('comfortable', 2), ('instructed', 2), ('observation', 2), ('Advertisement', 2), ('themselves', 2), ('disappearing', 2), ('manifestation', 2), ('Government', 2), ('possibilities', 2), ('transparent', 2), ('compulsion', 2), ('suggestion', 2), ('connection', 2), ('projection', 2), ('Beachballs', 2), ('explanation', 2), ('originated', 2), ('surroundings', 2), ('acquaintance', 2), ('description', 2), ('experienced', 2), ('flagellated', 2), ('obligation', 2), ('repetition', 2), ('employment', 2), ('consequences', 2), ('Discontinuity', 2), ('withdrawal', 2), ('companions', 2), ('substances', 2), ('encountered', 2), ('linguistic', 1), ('functional', 1), ('uncertainty', 1), ('attempting', 1), ('Pedestrian', 1), ('needlelike', 1), ('appendages', 1), ('fluttering', 1), ('especially', 1), ('mysterious', 1), ('interstellar', 1), ('sensational', 1), ('accomplished', 1), ('dimensions', 1), ('Xenobiologists', 1), ('reproduction', 1), ('yourselves', 1), ('robogreeter', 1), ('creditchit', 1), ('coordinates', 1), ('respiratory', 1), ('loneliness', 1), ('Contactees', 1), ('frequently', 1), ('displeasure', 1), ('sufficiently', 1), ('inconvenience', 1), ('deliberately', 1), ('temperamental', 1), ('enveloping', 1), ('Interrupting', 1), ('interested', 1), ('Presumably', 1), ('investigated', 1), ('cooperation', 1), ('activities', 1), ('Bureaucrat', 1), ('suspicions', 1), ('Reflection', 1), ('conditioned', 1), ('affability', 1), ('susceptible', 1), ('plastipicks', 1), ('explosives', 1), ('denominations', 1), ('multigoggles', 1), ('comparators', 1), ('nondescript', 1), ('possessions', 1), ('affectionately', 1), ('megacredits', 1), ('demonstrated', 1), ('susceptibility', 1), ('Confederated', 1), ('Disappearing', 1), ('disappearance', 1), ('accompanied', 1), ('disturbance', 1), ('personally', 1), ('terrifying', 1), ('resistance', 1), ('brainclock', 1), ('eighteenth', 1), ('electricity', 1), ('multilingual', 1), ('immortality', 1), ('reflecting', 1), ('psychological', 1), ('complexities', 1), ('punishments', 1), ('eliminated', 1), ('blundering', 1), ('Appropriations', 1), ('improbable', 1), ('proliferated', 1), ('destructive', 1), ('desperation', 1), ('organization', 1), ('downstairs', 1), ('outcropping', 1), ('quintillions', 1), ('stemmed_longest_sentence', 1), ('longest_sentence', 1), ('communications', 1), ('difficulties', 1), ('affliction', 1), ('uneasiness', 1), ('unpleasant', 1), ('communicate', 1), ('unintelligible', 1), ('possibility', 1), ('unorthodox', 1), ('interspecies', 1), ('entertained', 1), ('instructions', 1), ('incomplete', 1), ('appropriate', 1), ('Appropriate', 1), ('negotiated', 1), ('interpreting', 1), ('coastwatchers', 1), ('turnaround', 1), ('maintaining', 1), ('indestructible', 1), ('depression', 1), ('indentations', 1), ('variations', 1), ('presenting', 1), ('controlling', 1), ('apparently', 1), ('flickering', 1), ('scientific', 1), ('investigators', 1), ('instruments', 1), ('immediately', 1), ('Conversation', 1), ('coruscating', 1), ('insensitive', 1), ('pretentious', 1), ('registered', 1), ('equivalents', 1), ('insubstantial', 1), ('recognizable', 1), ('encountering', 1), ('introducing', 1), ('materialized', 1), ('borderline', 1), ('insufficient', 1), ('overlooking', 1), ('interrupting', 1), ('compassion', 1), ('unbearable', 1), ('examination', 1), ('mesmerized', 1), ('Coordinates', 1), ('difference', 1), ('Invocation', 1), ('acceptable', 1), ('Flagellation', 1), ('Explanation', 1), ('production', 1), ('mechanical', 1), ('interpreted', 1), ('discomfort', 1), ('sensations', 1), ('Explanations', 1), ('insurmountable', 1), ('forthcoming', 1), ('information', 1), ('confusions', 1), ('subterfuges', 1), ('Physically', 1), ('presentable', 1), ('intertwined', 1), ('Convolutions', 1), ('extraordinary', 1), ('terminology', 1), ('Potentials', 1), ('Tanglements', 1), ('originating', 1), ('linearities', 1), ('statements', 1), ('approximate', 1), ('Abnegation', 1), ('descriptives', 1), ('tanglement', 1), ('Planguinity', 1), ('reconstruct', 1), ('disruption', 1), ('Disruption', 1), ('experience', 1), ('reinforced', 1), ('frustration', 1), ('misunderstood', 1), ('recognizing', 1), ('entrapment', 1), ('withdrawing', 1), ('comparison', 1), ('repatterns', 1), ('commonality', 1), ('complication', 1), ('unthinkable', 1), ('comprehension', 1), ('disregards', 1), ('progression', 1), ('substantiate', 1), ('underworld', 1), ('pentarchal', 1), ('appearance', 1), ('ConSentiency', 1), ('Interspecies', 1), ('infighting', 1), ('directorate', 1), ('Discretion', 1), ('Department', 1), ('destination', 1)]\n"
     ]
    }
   ],
   "source": [
    "#Corpus 3: Question 4:\n",
    "\n",
    "\n",
    "\n",
    "\n",
    "\n",
    "\n",
    "long_words = [word for word in whipstar if len(word) >= 10]\n",
    "\n",
    "\n",
    "long_word_freq = FreqDist(long_words)\n",
    "\n",
    "\n",
    "top_10_long_words = long_word_freq.most_common(422)\n",
    "\n",
    "print(\"all words with at least 10 characters):\", top_10_long_words)"
   ]
  },
  {
   "cell_type": "code",
   "execution_count": 99,
   "id": "ccb9f655",
   "metadata": {
    "tags": []
   },
   "outputs": [
    {
     "ename": "OSError",
     "evalue": "No such file or directory: '/Users/ana/nltk_data/corpora/gutenberg/C:\\\\Users\\\\achad\\\\sda250jup\\\\binderrename\\\\sda-binder-main\\\\assignment1\\\\whippingstar.txt'",
     "output_type": "error",
     "traceback": [
      "\u001b[0;31m---------------------------------------------------------------------------\u001b[0m",
      "\u001b[0;31mOSError\u001b[0m                                   Traceback (most recent call last)",
      "Cell \u001b[0;32mIn[99], line 5\u001b[0m\n\u001b[1;32m      1\u001b[0m \u001b[38;5;66;03m#Corpus 3: Question 5:\u001b[39;00m\n\u001b[0;32m----> 5\u001b[0m whip_sentence \u001b[38;5;241m=\u001b[39m gutenberg\u001b[38;5;241m.\u001b[39msents(\u001b[38;5;124m'\u001b[39m\u001b[38;5;124mC:\u001b[39m\u001b[38;5;130;01m\\\\\u001b[39;00m\u001b[38;5;124mUsers\u001b[39m\u001b[38;5;130;01m\\\\\u001b[39;00m\u001b[38;5;124machad\u001b[39m\u001b[38;5;130;01m\\\\\u001b[39;00m\u001b[38;5;124msda250jup\u001b[39m\u001b[38;5;130;01m\\\\\u001b[39;00m\u001b[38;5;124mbinderrename\u001b[39m\u001b[38;5;130;01m\\\\\u001b[39;00m\u001b[38;5;124msda-binder-main\u001b[39m\u001b[38;5;130;01m\\\\\u001b[39;00m\u001b[38;5;124massignment1\u001b[39m\u001b[38;5;130;01m\\\\\u001b[39;00m\u001b[38;5;124mwhippingstar.txt\u001b[39m\u001b[38;5;124m'\u001b[39m)\n\u001b[1;32m      6\u001b[0m whip_sentence\n\u001b[1;32m      8\u001b[0m longest_len_whip \u001b[38;5;241m=\u001b[39m \u001b[38;5;28mmax\u001b[39m(\u001b[38;5;28mlen\u001b[39m(s) \u001b[38;5;28;01mfor\u001b[39;00m s \u001b[38;5;129;01min\u001b[39;00m whip_sentence)\n",
      "File \u001b[0;32m~/anaconda3/lib/python3.11/site-packages/nltk/corpus/reader/plaintext.py:93\u001b[0m, in \u001b[0;36mPlaintextCorpusReader.sents\u001b[0;34m(self, fileids)\u001b[0m\n\u001b[1;32m     87\u001b[0m \u001b[38;5;28;01mif\u001b[39;00m \u001b[38;5;28mself\u001b[39m\u001b[38;5;241m.\u001b[39m_sent_tokenizer \u001b[38;5;129;01mis\u001b[39;00m \u001b[38;5;28;01mNone\u001b[39;00m:\n\u001b[1;32m     88\u001b[0m     \u001b[38;5;28;01mraise\u001b[39;00m \u001b[38;5;167;01mValueError\u001b[39;00m(\u001b[38;5;124m\"\u001b[39m\u001b[38;5;124mNo sentence tokenizer for this corpus\u001b[39m\u001b[38;5;124m\"\u001b[39m)\n\u001b[1;32m     90\u001b[0m \u001b[38;5;28;01mreturn\u001b[39;00m concat(\n\u001b[1;32m     91\u001b[0m     [\n\u001b[1;32m     92\u001b[0m         \u001b[38;5;28mself\u001b[39m\u001b[38;5;241m.\u001b[39mCorpusView(path, \u001b[38;5;28mself\u001b[39m\u001b[38;5;241m.\u001b[39m_read_sent_block, encoding\u001b[38;5;241m=\u001b[39menc)\n\u001b[0;32m---> 93\u001b[0m         \u001b[38;5;28;01mfor\u001b[39;00m (path, enc, fileid) \u001b[38;5;129;01min\u001b[39;00m \u001b[38;5;28mself\u001b[39m\u001b[38;5;241m.\u001b[39mabspaths(fileids, \u001b[38;5;28;01mTrue\u001b[39;00m, \u001b[38;5;28;01mTrue\u001b[39;00m)\n\u001b[1;32m     94\u001b[0m     ]\n\u001b[1;32m     95\u001b[0m )\n",
      "File \u001b[0;32m~/anaconda3/lib/python3.11/site-packages/nltk/corpus/reader/api.py:195\u001b[0m, in \u001b[0;36mCorpusReader.abspaths\u001b[0;34m(self, fileids, include_encoding, include_fileid)\u001b[0m\n\u001b[1;32m    192\u001b[0m \u001b[38;5;28;01melif\u001b[39;00m \u001b[38;5;28misinstance\u001b[39m(fileids, \u001b[38;5;28mstr\u001b[39m):\n\u001b[1;32m    193\u001b[0m     fileids \u001b[38;5;241m=\u001b[39m [fileids]\n\u001b[0;32m--> 195\u001b[0m paths \u001b[38;5;241m=\u001b[39m [\u001b[38;5;28mself\u001b[39m\u001b[38;5;241m.\u001b[39m_root\u001b[38;5;241m.\u001b[39mjoin(f) \u001b[38;5;28;01mfor\u001b[39;00m f \u001b[38;5;129;01min\u001b[39;00m fileids]\n\u001b[1;32m    197\u001b[0m \u001b[38;5;28;01mif\u001b[39;00m include_encoding \u001b[38;5;129;01mand\u001b[39;00m include_fileid:\n\u001b[1;32m    198\u001b[0m     \u001b[38;5;28;01mreturn\u001b[39;00m \u001b[38;5;28mlist\u001b[39m(\u001b[38;5;28mzip\u001b[39m(paths, [\u001b[38;5;28mself\u001b[39m\u001b[38;5;241m.\u001b[39mencoding(f) \u001b[38;5;28;01mfor\u001b[39;00m f \u001b[38;5;129;01min\u001b[39;00m fileids], fileids))\n",
      "File \u001b[0;32m~/anaconda3/lib/python3.11/site-packages/nltk/corpus/reader/api.py:195\u001b[0m, in \u001b[0;36m<listcomp>\u001b[0;34m(.0)\u001b[0m\n\u001b[1;32m    192\u001b[0m \u001b[38;5;28;01melif\u001b[39;00m \u001b[38;5;28misinstance\u001b[39m(fileids, \u001b[38;5;28mstr\u001b[39m):\n\u001b[1;32m    193\u001b[0m     fileids \u001b[38;5;241m=\u001b[39m [fileids]\n\u001b[0;32m--> 195\u001b[0m paths \u001b[38;5;241m=\u001b[39m [\u001b[38;5;28mself\u001b[39m\u001b[38;5;241m.\u001b[39m_root\u001b[38;5;241m.\u001b[39mjoin(f) \u001b[38;5;28;01mfor\u001b[39;00m f \u001b[38;5;129;01min\u001b[39;00m fileids]\n\u001b[1;32m    197\u001b[0m \u001b[38;5;28;01mif\u001b[39;00m include_encoding \u001b[38;5;129;01mand\u001b[39;00m include_fileid:\n\u001b[1;32m    198\u001b[0m     \u001b[38;5;28;01mreturn\u001b[39;00m \u001b[38;5;28mlist\u001b[39m(\u001b[38;5;28mzip\u001b[39m(paths, [\u001b[38;5;28mself\u001b[39m\u001b[38;5;241m.\u001b[39mencoding(f) \u001b[38;5;28;01mfor\u001b[39;00m f \u001b[38;5;129;01min\u001b[39;00m fileids], fileids))\n",
      "File \u001b[0;32m~/anaconda3/lib/python3.11/site-packages/nltk/data.py:334\u001b[0m, in \u001b[0;36mFileSystemPathPointer.join\u001b[0;34m(self, fileid)\u001b[0m\n\u001b[1;32m    332\u001b[0m \u001b[38;5;28;01mdef\u001b[39;00m \u001b[38;5;21mjoin\u001b[39m(\u001b[38;5;28mself\u001b[39m, fileid):\n\u001b[1;32m    333\u001b[0m     _path \u001b[38;5;241m=\u001b[39m os\u001b[38;5;241m.\u001b[39mpath\u001b[38;5;241m.\u001b[39mjoin(\u001b[38;5;28mself\u001b[39m\u001b[38;5;241m.\u001b[39m_path, fileid)\n\u001b[0;32m--> 334\u001b[0m     \u001b[38;5;28;01mreturn\u001b[39;00m FileSystemPathPointer(_path)\n",
      "File \u001b[0;32m~/anaconda3/lib/python3.11/site-packages/nltk/compat.py:41\u001b[0m, in \u001b[0;36mpy3_data.<locals>._decorator\u001b[0;34m(*args, **kwargs)\u001b[0m\n\u001b[1;32m     39\u001b[0m \u001b[38;5;28;01mdef\u001b[39;00m \u001b[38;5;21m_decorator\u001b[39m(\u001b[38;5;241m*\u001b[39margs, \u001b[38;5;241m*\u001b[39m\u001b[38;5;241m*\u001b[39mkwargs):\n\u001b[1;32m     40\u001b[0m     args \u001b[38;5;241m=\u001b[39m (args[\u001b[38;5;241m0\u001b[39m], add_py3_data(args[\u001b[38;5;241m1\u001b[39m])) \u001b[38;5;241m+\u001b[39m args[\u001b[38;5;241m2\u001b[39m:]\n\u001b[0;32m---> 41\u001b[0m     \u001b[38;5;28;01mreturn\u001b[39;00m init_func(\u001b[38;5;241m*\u001b[39margs, \u001b[38;5;241m*\u001b[39m\u001b[38;5;241m*\u001b[39mkwargs)\n",
      "File \u001b[0;32m~/anaconda3/lib/python3.11/site-packages/nltk/data.py:312\u001b[0m, in \u001b[0;36mFileSystemPathPointer.__init__\u001b[0;34m(self, _path)\u001b[0m\n\u001b[1;32m    310\u001b[0m _path \u001b[38;5;241m=\u001b[39m os\u001b[38;5;241m.\u001b[39mpath\u001b[38;5;241m.\u001b[39mabspath(_path)\n\u001b[1;32m    311\u001b[0m \u001b[38;5;28;01mif\u001b[39;00m \u001b[38;5;129;01mnot\u001b[39;00m os\u001b[38;5;241m.\u001b[39mpath\u001b[38;5;241m.\u001b[39mexists(_path):\n\u001b[0;32m--> 312\u001b[0m     \u001b[38;5;28;01mraise\u001b[39;00m \u001b[38;5;167;01mOSError\u001b[39;00m(\u001b[38;5;124m\"\u001b[39m\u001b[38;5;124mNo such file or directory: \u001b[39m\u001b[38;5;132;01m%r\u001b[39;00m\u001b[38;5;124m\"\u001b[39m \u001b[38;5;241m%\u001b[39m _path)\n\u001b[1;32m    313\u001b[0m \u001b[38;5;28mself\u001b[39m\u001b[38;5;241m.\u001b[39m_path \u001b[38;5;241m=\u001b[39m _path\n",
      "\u001b[0;31mOSError\u001b[0m: No such file or directory: '/Users/ana/nltk_data/corpora/gutenberg/C:\\\\Users\\\\achad\\\\sda250jup\\\\binderrename\\\\sda-binder-main\\\\assignment1\\\\whippingstar.txt'"
     ]
    }
   ],
   "source": [
    "\n",
    "#Corpus 3: Question 5:\n",
    "\n",
    "\n",
    "\n",
    "whip_sentence = gutenberg.sents('C:\\\\Users\\\\achad\\\\sda250jup\\\\binderrename\\\\sda-binder-main\\\\assignment1\\\\whippingstar.txt')\n",
    "whip_sentence\n",
    "\n",
    "longest_len_whip = max(len(s) for s in whip_sentence)\n",
    "whip_longest_sentence = [s for s in whip_sentence if len(s) == longest_len_whip][0]\n",
    "print(\"Word count is:\",whip_longest_sentence)\n",
    "len(whip_longest_sentence)"
   ]
  },
  {
   "cell_type": "code",
   "execution_count": 100,
   "id": "4ce5925a",
   "metadata": {
    "tags": []
   },
   "outputs": [
    {
     "ename": "NameError",
     "evalue": "name 'whip_longest_sentence' is not defined",
     "output_type": "error",
     "traceback": [
      "\u001b[0;31m---------------------------------------------------------------------------\u001b[0m",
      "\u001b[0;31mNameError\u001b[0m                                 Traceback (most recent call last)",
      "Cell \u001b[0;32mIn[100], line 7\u001b[0m\n\u001b[1;32m      1\u001b[0m \u001b[38;5;66;03m#Corpus 3: Question 6:\u001b[39;00m\n\u001b[1;32m      5\u001b[0m stemmer2\u001b[38;5;241m=\u001b[39mPorterStemmer()\n\u001b[0;32m----> 7\u001b[0m stemmed_sentence2\u001b[38;5;241m=\u001b[39m [stemmer2\u001b[38;5;241m.\u001b[39mstem(word) \u001b[38;5;28;01mfor\u001b[39;00m word \u001b[38;5;129;01min\u001b[39;00m whip_longest_sentence]\n\u001b[1;32m     12\u001b[0m \u001b[38;5;28mprint\u001b[39m(stemmed_sentence2)\n",
      "\u001b[0;31mNameError\u001b[0m: name 'whip_longest_sentence' is not defined"
     ]
    }
   ],
   "source": [
    "\n",
    "#Corpus 3: Question 6:\n",
    "\n",
    "\n",
    "\n",
    "stemmer2=PorterStemmer()\n",
    "\n",
    "stemmed_sentence2= [stemmer2.stem(word) for word in whip_longest_sentence]\n",
    "\n",
    "\n",
    "\n",
    "\n",
    "print(stemmed_sentence2)"
   ]
  },
  {
   "cell_type": "code",
   "execution_count": null,
   "id": "e95c8a7c-f6f0-43e4-97aa-1a38f64db3d9",
   "metadata": {},
   "outputs": [],
   "source": []
  }
 ],
 "metadata": {
  "kernelspec": {
   "display_name": "Python 3 (ipykernel)",
   "language": "python",
   "name": "python3"
  },
  "language_info": {
   "codemirror_mode": {
    "name": "ipython",
    "version": 3
   },
   "file_extension": ".py",
   "mimetype": "text/x-python",
   "name": "python",
   "nbconvert_exporter": "python",
   "pygments_lexer": "ipython3",
   "version": "3.11.4"
  }
 },
 "nbformat": 4,
 "nbformat_minor": 5
}
